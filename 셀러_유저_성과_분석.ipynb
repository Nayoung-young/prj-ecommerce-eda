{
  "nbformat": 4,
  "nbformat_minor": 0,
  "metadata": {
    "colab": {
      "provenance": [],
      "toc_visible": true,
      "mount_file_id": "15yooydP7o-d7aFd0tpmzZojlZsr6onMx",
      "authorship_tag": "ABX9TyOmrWNlAksyyX+V2UVSsP69",
      "include_colab_link": true
    },
    "kernelspec": {
      "name": "python3",
      "display_name": "Python 3"
    },
    "language_info": {
      "name": "python"
    }
  },
  "cells": [
    {
      "cell_type": "markdown",
      "metadata": {
        "id": "view-in-github",
        "colab_type": "text"
      },
      "source": [
        "<a href=\"https://colab.research.google.com/github/Nayoung-young/prj-ecommerce-eda/blob/main/%EC%85%80%EB%9F%AC_%EC%9C%A0%EC%A0%80_%EC%84%B1%EA%B3%BC_%EB%B6%84%EC%84%9D.ipynb\" target=\"_parent\"><img src=\"https://colab.research.google.com/assets/colab-badge.svg\" alt=\"Open In Colab\"/></a>"
      ]
    },
    {
      "cell_type": "markdown",
      "source": [
        "# 유저 성과 분석 (4번)"
      ],
      "metadata": {
        "id": "fSlYn72uTs9v"
      }
    },
    {
      "cell_type": "code",
      "source": [
        "# 라이브러리 임포트\n",
        "\n",
        "import matplotlib.pyplot as plt\n",
        "import seaborn as sns\n",
        "import numpy as np\n",
        "import pandas as pd\n"
      ],
      "metadata": {
        "id": "aIBKN9LITQhP"
      },
      "execution_count": 3,
      "outputs": []
    },
    {
      "cell_type": "markdown",
      "source": [
        "# _1. 데이터 전처리"
      ],
      "metadata": {
        "id": "t1dv_2aSZ-Yi"
      }
    },
    {
      "cell_type": "markdown",
      "source": [
        "## 1.1. 데이터셋 불러오기"
      ],
      "metadata": {
        "id": "avT1plvIS3BF"
      }
    },
    {
      "cell_type": "code",
      "execution_count": 29,
      "metadata": {
        "id": "UVhbScS8SyAp"
      },
      "outputs": [],
      "source": [
        "%%time\n",
        "df_re_org = pd.read_csv('/content/drive/MyDrive/dataset_2023/패스트캠퍼스/bootcamp-python-project/olist_order_reviews_dataset.csv')\n",
        "\n",
        "df_customer_org = pd.read_csv('/content/drive/MyDrive/dataset_2023/패스트캠퍼스/bootcamp-python-project/olist_customers_dataset.csv')\n",
        "df_ord_org = pd.read_csv('/content/drive/MyDrive/dataset_2023/패스트캠퍼스/bootcamp-python-project/olist_orders_dataset.csv')\n",
        "df_it_org = pd.read_csv('/content/drive/MyDrive/dataset_2023/패스트캠퍼스/bootcamp-python-project/olist_order_items_dataset.csv')\n",
        "\n",
        "df_seller_org = pd.read_csv('/content/drive/MyDrive/dataset_2023/패스트캠퍼스/bootcamp-python-project/olist_sellers_dataset.csv')"
      ]
    },
    {
      "cell_type": "code",
      "source": [
        "df_re_org.info()"
      ],
      "metadata": {
        "colab": {
          "base_uri": "https://localhost:8080/"
        },
        "id": "VuRtS13dUlxM",
        "outputId": "94880c02-88d4-486b-efc0-baedbda26d8a"
      },
      "execution_count": 7,
      "outputs": [
        {
          "output_type": "stream",
          "name": "stdout",
          "text": [
            "<class 'pandas.core.frame.DataFrame'>\n",
            "RangeIndex: 99224 entries, 0 to 99223\n",
            "Data columns (total 7 columns):\n",
            " #   Column                   Non-Null Count  Dtype \n",
            "---  ------                   --------------  ----- \n",
            " 0   review_id                99224 non-null  object\n",
            " 1   order_id                 99224 non-null  object\n",
            " 2   review_score             99224 non-null  int64 \n",
            " 3   review_comment_title     11568 non-null  object\n",
            " 4   review_comment_message   40977 non-null  object\n",
            " 5   review_creation_date     99224 non-null  object\n",
            " 6   review_answer_timestamp  99224 non-null  object\n",
            "dtypes: int64(1), object(6)\n",
            "memory usage: 5.3+ MB\n"
          ]
        }
      ]
    },
    {
      "cell_type": "code",
      "source": [
        "df_customer_org.info()"
      ],
      "metadata": {
        "colab": {
          "base_uri": "https://localhost:8080/"
        },
        "id": "Kp7c4QUTUuqy",
        "outputId": "80ed0d72-7523-4e32-a807-617f8a7f1943"
      },
      "execution_count": 8,
      "outputs": [
        {
          "output_type": "stream",
          "name": "stdout",
          "text": [
            "<class 'pandas.core.frame.DataFrame'>\n",
            "RangeIndex: 99441 entries, 0 to 99440\n",
            "Data columns (total 5 columns):\n",
            " #   Column                    Non-Null Count  Dtype \n",
            "---  ------                    --------------  ----- \n",
            " 0   customer_id               99441 non-null  object\n",
            " 1   customer_unique_id        99441 non-null  object\n",
            " 2   customer_zip_code_prefix  99441 non-null  int64 \n",
            " 3   customer_city             99441 non-null  object\n",
            " 4   customer_state            99441 non-null  object\n",
            "dtypes: int64(1), object(4)\n",
            "memory usage: 3.8+ MB\n"
          ]
        }
      ]
    },
    {
      "cell_type": "code",
      "source": [
        "df_ord_org.info()"
      ],
      "metadata": {
        "colab": {
          "base_uri": "https://localhost:8080/"
        },
        "id": "AVV1Rk6EVPdp",
        "outputId": "b4a28c4c-3b27-40af-e601-68f632536294"
      },
      "execution_count": 35,
      "outputs": [
        {
          "output_type": "stream",
          "name": "stdout",
          "text": [
            "<class 'pandas.core.frame.DataFrame'>\n",
            "RangeIndex: 99441 entries, 0 to 99440\n",
            "Data columns (total 8 columns):\n",
            " #   Column                         Non-Null Count  Dtype \n",
            "---  ------                         --------------  ----- \n",
            " 0   order_id                       99441 non-null  object\n",
            " 1   customer_id                    99441 non-null  object\n",
            " 2   order_status                   99441 non-null  object\n",
            " 3   order_purchase_timestamp       99441 non-null  object\n",
            " 4   order_approved_at              99281 non-null  object\n",
            " 5   order_delivered_carrier_date   97658 non-null  object\n",
            " 6   order_delivered_customer_date  96476 non-null  object\n",
            " 7   order_estimated_delivery_date  99441 non-null  object\n",
            "dtypes: object(8)\n",
            "memory usage: 6.1+ MB\n"
          ]
        }
      ]
    },
    {
      "cell_type": "code",
      "source": [
        "# df_ord_org[['order_approved_at', 'order_delivered_carrier_date']].isna().sum()"
      ],
      "metadata": {
        "id": "bDnDWy8ghXSu"
      },
      "execution_count": 44,
      "outputs": []
    },
    {
      "cell_type": "code",
      "source": [
        "# df_ord_org[ df_ord_org[['order_approved_at', 'order_delivered_carrier_date']].isna() ]"
      ],
      "metadata": {
        "id": "exRnacp5faCl"
      },
      "execution_count": 43,
      "outputs": []
    },
    {
      "cell_type": "code",
      "source": [
        "df_it_org.info()"
      ],
      "metadata": {
        "colab": {
          "base_uri": "https://localhost:8080/"
        },
        "id": "-ddJFpbJapZI",
        "outputId": "2ec6b9c0-3bd8-4c05-b94b-f19d58035fb0"
      },
      "execution_count": 32,
      "outputs": [
        {
          "output_type": "stream",
          "name": "stdout",
          "text": [
            "<class 'pandas.core.frame.DataFrame'>\n",
            "RangeIndex: 112650 entries, 0 to 112649\n",
            "Data columns (total 7 columns):\n",
            " #   Column               Non-Null Count   Dtype  \n",
            "---  ------               --------------   -----  \n",
            " 0   order_id             112650 non-null  object \n",
            " 1   order_item_id        112650 non-null  int64  \n",
            " 2   product_id           112650 non-null  object \n",
            " 3   seller_id            112650 non-null  object \n",
            " 4   shipping_limit_date  112650 non-null  object \n",
            " 5   price                112650 non-null  float64\n",
            " 6   freight_value        112650 non-null  float64\n",
            "dtypes: float64(2), int64(1), object(4)\n",
            "memory usage: 6.0+ MB\n"
          ]
        }
      ]
    },
    {
      "cell_type": "markdown",
      "source": [
        "## 1.2. 전처리"
      ],
      "metadata": {
        "id": "BwDx7P80VXfh"
      }
    },
    {
      "cell_type": "code",
      "source": [
        "# df_ord 전처리\n",
        "\n",
        "df_ord = df_ord_org.copy()\n",
        "\n",
        "print('='* 50 +'\\n')\n",
        "print('df_ord\\n')\n",
        "print(f'전처리 전: {df_ord.shape}')\n",
        "\n",
        "## 1) 필요한 컬럼만 남기기\n",
        "\n",
        "df_ord = df_ord_org[['order_id', 'customer_id', 'order_status', 'order_purchase_timestamp']]\n",
        "\n",
        "## 2) order_status == 'delivered'\n",
        "\n",
        "df_ord = df_ord[ df_ord['order_status'] == 'delivered' ]\n",
        "\n",
        "## 3) order_purchase_year, month 추가\n",
        "\n",
        "df_ord['order_purchase_timestamp'] = pd.to_datetime(df_ord['order_purchase_timestamp'])\n",
        "\n",
        "df_ord['order_purchase_date'] = df_ord['order_purchase_timestamp'].dt.date\n",
        "df_ord['order_purchase_year'] = df_ord['order_purchase_timestamp'].dt.year\n",
        "df_ord['order_purchase_month'] = df_ord['order_purchase_timestamp'].dt.month\n",
        "\n",
        "\n",
        "# df_ord.drop(columns = ['order_purchase_timestamp'], inplace=True)\n",
        "\n",
        "## 4) order_purchase_year == 2016 인 경우 제외\n",
        "\n",
        "df_ord = df_ord[ df_ord['order_purchase_year'] != 2016 ]\n",
        "\n",
        "print(f'전처리 후: {df_ord.shape}\\n')\n",
        "print('='* 50 +'\\n')\n",
        "\n",
        "print(df_ord.info())"
      ],
      "metadata": {
        "colab": {
          "base_uri": "https://localhost:8080/"
        },
        "id": "MtSneyT_VW8K",
        "outputId": "c3566787-714a-449a-d42a-65d1282916f7"
      },
      "execution_count": 70,
      "outputs": [
        {
          "output_type": "stream",
          "name": "stdout",
          "text": [
            "==================================================\n",
            "\n",
            "df_ord\n",
            "\n",
            "전처리 전: (99441, 8)\n",
            "전처리 후: (96211, 7)\n",
            "\n",
            "==================================================\n",
            "\n",
            "<class 'pandas.core.frame.DataFrame'>\n",
            "Int64Index: 96211 entries, 0 to 99440\n",
            "Data columns (total 7 columns):\n",
            " #   Column                    Non-Null Count  Dtype         \n",
            "---  ------                    --------------  -----         \n",
            " 0   order_id                  96211 non-null  object        \n",
            " 1   customer_id               96211 non-null  object        \n",
            " 2   order_status              96211 non-null  object        \n",
            " 3   order_purchase_timestamp  96211 non-null  datetime64[ns]\n",
            " 4   order_purchase_date       96211 non-null  object        \n",
            " 5   order_purchase_year       96211 non-null  int64         \n",
            " 6   order_purchase_month      96211 non-null  int64         \n",
            "dtypes: datetime64[ns](1), int64(2), object(4)\n",
            "memory usage: 5.9+ MB\n",
            "None\n"
          ]
        }
      ]
    },
    {
      "cell_type": "code",
      "source": [
        "df_ord.head()"
      ],
      "metadata": {
        "colab": {
          "base_uri": "https://localhost:8080/",
          "height": 206
        },
        "id": "U0FTttHLtFTA",
        "outputId": "44502edc-1a81-462e-fbdc-fb85b2341b2f"
      },
      "execution_count": 71,
      "outputs": [
        {
          "output_type": "execute_result",
          "data": {
            "text/plain": [
              "                           order_id                       customer_id  \\\n",
              "0  e481f51cbdc54678b7cc49136f2d6af7  9ef432eb6251297304e76186b10a928d   \n",
              "1  53cdb2fc8bc7dce0b6741e2150273451  b0830fb4747a6c6d20dea0b8c802d7ef   \n",
              "2  47770eb9100c2d0c44946d9cf07ec65d  41ce2a54c0b03bf3443c3d931a367089   \n",
              "3  949d5b44dbf5de918fe9c16f97b45f8a  f88197465ea7920adcdbec7375364d82   \n",
              "4  ad21c59c0840e6cb83a9ceb5573f8159  8ab97904e6daea8866dbdbc4fb7aad2c   \n",
              "\n",
              "  order_status order_purchase_timestamp order_purchase_date  \\\n",
              "0    delivered      2017-10-02 10:56:33          2017-10-02   \n",
              "1    delivered      2018-07-24 20:41:37          2018-07-24   \n",
              "2    delivered      2018-08-08 08:38:49          2018-08-08   \n",
              "3    delivered      2017-11-18 19:28:06          2017-11-18   \n",
              "4    delivered      2018-02-13 21:18:39          2018-02-13   \n",
              "\n",
              "   order_purchase_year  order_purchase_month  \n",
              "0                 2017                    10  \n",
              "1                 2018                     7  \n",
              "2                 2018                     8  \n",
              "3                 2017                    11  \n",
              "4                 2018                     2  "
            ],
            "text/html": [
              "\n",
              "\n",
              "  <div id=\"df-3a869911-5ecb-4af8-b01b-619532eb2b8a\">\n",
              "    <div class=\"colab-df-container\">\n",
              "      <div>\n",
              "<style scoped>\n",
              "    .dataframe tbody tr th:only-of-type {\n",
              "        vertical-align: middle;\n",
              "    }\n",
              "\n",
              "    .dataframe tbody tr th {\n",
              "        vertical-align: top;\n",
              "    }\n",
              "\n",
              "    .dataframe thead th {\n",
              "        text-align: right;\n",
              "    }\n",
              "</style>\n",
              "<table border=\"1\" class=\"dataframe\">\n",
              "  <thead>\n",
              "    <tr style=\"text-align: right;\">\n",
              "      <th></th>\n",
              "      <th>order_id</th>\n",
              "      <th>customer_id</th>\n",
              "      <th>order_status</th>\n",
              "      <th>order_purchase_timestamp</th>\n",
              "      <th>order_purchase_date</th>\n",
              "      <th>order_purchase_year</th>\n",
              "      <th>order_purchase_month</th>\n",
              "    </tr>\n",
              "  </thead>\n",
              "  <tbody>\n",
              "    <tr>\n",
              "      <th>0</th>\n",
              "      <td>e481f51cbdc54678b7cc49136f2d6af7</td>\n",
              "      <td>9ef432eb6251297304e76186b10a928d</td>\n",
              "      <td>delivered</td>\n",
              "      <td>2017-10-02 10:56:33</td>\n",
              "      <td>2017-10-02</td>\n",
              "      <td>2017</td>\n",
              "      <td>10</td>\n",
              "    </tr>\n",
              "    <tr>\n",
              "      <th>1</th>\n",
              "      <td>53cdb2fc8bc7dce0b6741e2150273451</td>\n",
              "      <td>b0830fb4747a6c6d20dea0b8c802d7ef</td>\n",
              "      <td>delivered</td>\n",
              "      <td>2018-07-24 20:41:37</td>\n",
              "      <td>2018-07-24</td>\n",
              "      <td>2018</td>\n",
              "      <td>7</td>\n",
              "    </tr>\n",
              "    <tr>\n",
              "      <th>2</th>\n",
              "      <td>47770eb9100c2d0c44946d9cf07ec65d</td>\n",
              "      <td>41ce2a54c0b03bf3443c3d931a367089</td>\n",
              "      <td>delivered</td>\n",
              "      <td>2018-08-08 08:38:49</td>\n",
              "      <td>2018-08-08</td>\n",
              "      <td>2018</td>\n",
              "      <td>8</td>\n",
              "    </tr>\n",
              "    <tr>\n",
              "      <th>3</th>\n",
              "      <td>949d5b44dbf5de918fe9c16f97b45f8a</td>\n",
              "      <td>f88197465ea7920adcdbec7375364d82</td>\n",
              "      <td>delivered</td>\n",
              "      <td>2017-11-18 19:28:06</td>\n",
              "      <td>2017-11-18</td>\n",
              "      <td>2017</td>\n",
              "      <td>11</td>\n",
              "    </tr>\n",
              "    <tr>\n",
              "      <th>4</th>\n",
              "      <td>ad21c59c0840e6cb83a9ceb5573f8159</td>\n",
              "      <td>8ab97904e6daea8866dbdbc4fb7aad2c</td>\n",
              "      <td>delivered</td>\n",
              "      <td>2018-02-13 21:18:39</td>\n",
              "      <td>2018-02-13</td>\n",
              "      <td>2018</td>\n",
              "      <td>2</td>\n",
              "    </tr>\n",
              "  </tbody>\n",
              "</table>\n",
              "</div>\n",
              "      <button class=\"colab-df-convert\" onclick=\"convertToInteractive('df-3a869911-5ecb-4af8-b01b-619532eb2b8a')\"\n",
              "              title=\"Convert this dataframe to an interactive table.\"\n",
              "              style=\"display:none;\">\n",
              "\n",
              "  <svg xmlns=\"http://www.w3.org/2000/svg\" height=\"24px\"viewBox=\"0 0 24 24\"\n",
              "       width=\"24px\">\n",
              "    <path d=\"M0 0h24v24H0V0z\" fill=\"none\"/>\n",
              "    <path d=\"M18.56 5.44l.94 2.06.94-2.06 2.06-.94-2.06-.94-.94-2.06-.94 2.06-2.06.94zm-11 1L8.5 8.5l.94-2.06 2.06-.94-2.06-.94L8.5 2.5l-.94 2.06-2.06.94zm10 10l.94 2.06.94-2.06 2.06-.94-2.06-.94-.94-2.06-.94 2.06-2.06.94z\"/><path d=\"M17.41 7.96l-1.37-1.37c-.4-.4-.92-.59-1.43-.59-.52 0-1.04.2-1.43.59L10.3 9.45l-7.72 7.72c-.78.78-.78 2.05 0 2.83L4 21.41c.39.39.9.59 1.41.59.51 0 1.02-.2 1.41-.59l7.78-7.78 2.81-2.81c.8-.78.8-2.07 0-2.86zM5.41 20L4 18.59l7.72-7.72 1.47 1.35L5.41 20z\"/>\n",
              "  </svg>\n",
              "      </button>\n",
              "\n",
              "\n",
              "\n",
              "    <div id=\"df-94fb28a3-e79f-44a1-b06c-964b6dd43d1e\">\n",
              "      <button class=\"colab-df-quickchart\" onclick=\"quickchart('df-94fb28a3-e79f-44a1-b06c-964b6dd43d1e')\"\n",
              "              title=\"Suggest charts.\"\n",
              "              style=\"display:none;\">\n",
              "\n",
              "<svg xmlns=\"http://www.w3.org/2000/svg\" height=\"24px\"viewBox=\"0 0 24 24\"\n",
              "     width=\"24px\">\n",
              "    <g>\n",
              "        <path d=\"M19 3H5c-1.1 0-2 .9-2 2v14c0 1.1.9 2 2 2h14c1.1 0 2-.9 2-2V5c0-1.1-.9-2-2-2zM9 17H7v-7h2v7zm4 0h-2V7h2v10zm4 0h-2v-4h2v4z\"/>\n",
              "    </g>\n",
              "</svg>\n",
              "      </button>\n",
              "    </div>\n",
              "\n",
              "<style>\n",
              "  .colab-df-quickchart {\n",
              "    background-color: #E8F0FE;\n",
              "    border: none;\n",
              "    border-radius: 50%;\n",
              "    cursor: pointer;\n",
              "    display: none;\n",
              "    fill: #1967D2;\n",
              "    height: 32px;\n",
              "    padding: 0 0 0 0;\n",
              "    width: 32px;\n",
              "  }\n",
              "\n",
              "  .colab-df-quickchart:hover {\n",
              "    background-color: #E2EBFA;\n",
              "    box-shadow: 0px 1px 2px rgba(60, 64, 67, 0.3), 0px 1px 3px 1px rgba(60, 64, 67, 0.15);\n",
              "    fill: #174EA6;\n",
              "  }\n",
              "\n",
              "  [theme=dark] .colab-df-quickchart {\n",
              "    background-color: #3B4455;\n",
              "    fill: #D2E3FC;\n",
              "  }\n",
              "\n",
              "  [theme=dark] .colab-df-quickchart:hover {\n",
              "    background-color: #434B5C;\n",
              "    box-shadow: 0px 1px 3px 1px rgba(0, 0, 0, 0.15);\n",
              "    filter: drop-shadow(0px 1px 2px rgba(0, 0, 0, 0.3));\n",
              "    fill: #FFFFFF;\n",
              "  }\n",
              "</style>\n",
              "\n",
              "    <script>\n",
              "      async function quickchart(key) {\n",
              "        const containerElement = document.querySelector('#' + key);\n",
              "        const charts = await google.colab.kernel.invokeFunction(\n",
              "            'suggestCharts', [key], {});\n",
              "      }\n",
              "    </script>\n",
              "\n",
              "      <script>\n",
              "\n",
              "function displayQuickchartButton(domScope) {\n",
              "  let quickchartButtonEl =\n",
              "    domScope.querySelector('#df-94fb28a3-e79f-44a1-b06c-964b6dd43d1e button.colab-df-quickchart');\n",
              "  quickchartButtonEl.style.display =\n",
              "    google.colab.kernel.accessAllowed ? 'block' : 'none';\n",
              "}\n",
              "\n",
              "        displayQuickchartButton(document);\n",
              "      </script>\n",
              "      <style>\n",
              "    .colab-df-container {\n",
              "      display:flex;\n",
              "      flex-wrap:wrap;\n",
              "      gap: 12px;\n",
              "    }\n",
              "\n",
              "    .colab-df-convert {\n",
              "      background-color: #E8F0FE;\n",
              "      border: none;\n",
              "      border-radius: 50%;\n",
              "      cursor: pointer;\n",
              "      display: none;\n",
              "      fill: #1967D2;\n",
              "      height: 32px;\n",
              "      padding: 0 0 0 0;\n",
              "      width: 32px;\n",
              "    }\n",
              "\n",
              "    .colab-df-convert:hover {\n",
              "      background-color: #E2EBFA;\n",
              "      box-shadow: 0px 1px 2px rgba(60, 64, 67, 0.3), 0px 1px 3px 1px rgba(60, 64, 67, 0.15);\n",
              "      fill: #174EA6;\n",
              "    }\n",
              "\n",
              "    [theme=dark] .colab-df-convert {\n",
              "      background-color: #3B4455;\n",
              "      fill: #D2E3FC;\n",
              "    }\n",
              "\n",
              "    [theme=dark] .colab-df-convert:hover {\n",
              "      background-color: #434B5C;\n",
              "      box-shadow: 0px 1px 3px 1px rgba(0, 0, 0, 0.15);\n",
              "      filter: drop-shadow(0px 1px 2px rgba(0, 0, 0, 0.3));\n",
              "      fill: #FFFFFF;\n",
              "    }\n",
              "  </style>\n",
              "\n",
              "      <script>\n",
              "        const buttonEl =\n",
              "          document.querySelector('#df-3a869911-5ecb-4af8-b01b-619532eb2b8a button.colab-df-convert');\n",
              "        buttonEl.style.display =\n",
              "          google.colab.kernel.accessAllowed ? 'block' : 'none';\n",
              "\n",
              "        async function convertToInteractive(key) {\n",
              "          const element = document.querySelector('#df-3a869911-5ecb-4af8-b01b-619532eb2b8a');\n",
              "          const dataTable =\n",
              "            await google.colab.kernel.invokeFunction('convertToInteractive',\n",
              "                                                     [key], {});\n",
              "          if (!dataTable) return;\n",
              "\n",
              "          const docLinkHtml = 'Like what you see? Visit the ' +\n",
              "            '<a target=\"_blank\" href=https://colab.research.google.com/notebooks/data_table.ipynb>data table notebook</a>'\n",
              "            + ' to learn more about interactive tables.';\n",
              "          element.innerHTML = '';\n",
              "          dataTable['output_type'] = 'display_data';\n",
              "          await google.colab.output.renderOutput(dataTable, element);\n",
              "          const docLink = document.createElement('div');\n",
              "          docLink.innerHTML = docLinkHtml;\n",
              "          element.appendChild(docLink);\n",
              "        }\n",
              "      </script>\n",
              "    </div>\n",
              "  </div>\n"
            ]
          },
          "metadata": {},
          "execution_count": 71
        }
      ]
    },
    {
      "cell_type": "code",
      "source": [
        "# df_re 전처리\n",
        "\n",
        "df_re = df_re_org.copy()\n",
        "\n",
        "print('='* 50 +'\\n')\n",
        "print('df_re\\n')\n",
        "print(f'전처리 전: {df_re.shape}')\n",
        "\n",
        "## 1) 필요한 컬럼만 남기기\n",
        "\n",
        "df_re = df_re_org[['review_id', 'order_id', 'review_score']]\n",
        "\n",
        "print(f'전처리 후: {df_re.shape}\\n')\n",
        "print('='* 50 +'\\n')\n",
        "\n",
        "print(df_re.info())\n"
      ],
      "metadata": {
        "colab": {
          "base_uri": "https://localhost:8080/"
        },
        "id": "Ntxwke6FUj9Q",
        "outputId": "c2179cc8-e2ba-47b3-e655-581b50892c3e"
      },
      "execution_count": 24,
      "outputs": [
        {
          "output_type": "stream",
          "name": "stdout",
          "text": [
            "==================================================\n",
            "\n",
            "df_re\n",
            "\n",
            "전처리 전: (99224, 7)\n",
            "전처리 후: (99224, 3)\n",
            "\n",
            "==================================================\n",
            "\n",
            "<class 'pandas.core.frame.DataFrame'>\n",
            "RangeIndex: 99224 entries, 0 to 99223\n",
            "Data columns (total 3 columns):\n",
            " #   Column        Non-Null Count  Dtype \n",
            "---  ------        --------------  ----- \n",
            " 0   review_id     99224 non-null  object\n",
            " 1   order_id      99224 non-null  object\n",
            " 2   review_score  99224 non-null  int64 \n",
            "dtypes: int64(1), object(2)\n",
            "memory usage: 2.3+ MB\n",
            "None\n"
          ]
        }
      ]
    },
    {
      "cell_type": "code",
      "source": [
        "# df_customer 전처리\n",
        "\n",
        "df_customer = df_customer_org.copy()\n",
        "\n",
        "print('='* 50 +'\\n')\n",
        "print('df_customer\\n')\n",
        "print(f'전처리 전: {df_customer.shape}')\n",
        "\n",
        "## 1) 필요한 컬럼만 남기기\n",
        "\n",
        "df_customer = df_customer_org[['customer_id', 'customer_unique_id', 'customer_state']]\n",
        "\n",
        "print(f'전처리 후: {df_customer.shape}\\n')\n",
        "print('='* 50 +'\\n')\n",
        "\n",
        "print(df_customer.info())\n"
      ],
      "metadata": {
        "colab": {
          "base_uri": "https://localhost:8080/"
        },
        "id": "dFixu8_PVDZC",
        "outputId": "55ef015c-0ba4-44c7-984b-f9aee057c06d"
      },
      "execution_count": 27,
      "outputs": [
        {
          "output_type": "stream",
          "name": "stdout",
          "text": [
            "==================================================\n",
            "\n",
            "df_customer\n",
            "\n",
            "전처리 전: (99441, 5)\n",
            "전처리 후: (99441, 3)\n",
            "\n",
            "==================================================\n",
            "\n",
            "<class 'pandas.core.frame.DataFrame'>\n",
            "RangeIndex: 99441 entries, 0 to 99440\n",
            "Data columns (total 3 columns):\n",
            " #   Column              Non-Null Count  Dtype \n",
            "---  ------              --------------  ----- \n",
            " 0   customer_id         99441 non-null  object\n",
            " 1   customer_unique_id  99441 non-null  object\n",
            " 2   customer_state      99441 non-null  object\n",
            "dtypes: object(3)\n",
            "memory usage: 2.3+ MB\n",
            "None\n"
          ]
        }
      ]
    },
    {
      "cell_type": "code",
      "source": [
        "# df_it 전처리\n",
        "\n",
        "df_it = df_it_org.copy()\n",
        "\n",
        "print('='* 50 +'\\n')\n",
        "print('df_it\\n')\n",
        "print(f'전처리 전: {df_it.shape}')\n",
        "\n",
        "## 1) 필요한 컬럼만 남기기\n",
        "\n",
        "df_it = df_it_org[['order_id', 'order_item_id', 'product_id', 'seller_id', 'price']]\n",
        "\n",
        "print(f'전처리 후: {df_it.shape}\\n')\n",
        "print('='* 50 +'\\n')\n",
        "\n",
        "print(df_it.info())\n"
      ],
      "metadata": {
        "colab": {
          "base_uri": "https://localhost:8080/"
        },
        "id": "E4RNKONPYSgw",
        "outputId": "6d44411b-00a1-48ba-f74b-2318a060b646"
      },
      "execution_count": 34,
      "outputs": [
        {
          "output_type": "stream",
          "name": "stdout",
          "text": [
            "==================================================\n",
            "\n",
            "df_it\n",
            "\n",
            "전처리 전: (112650, 7)\n",
            "전처리 후: (112650, 5)\n",
            "\n",
            "==================================================\n",
            "\n",
            "<class 'pandas.core.frame.DataFrame'>\n",
            "RangeIndex: 112650 entries, 0 to 112649\n",
            "Data columns (total 5 columns):\n",
            " #   Column         Non-Null Count   Dtype  \n",
            "---  ------         --------------   -----  \n",
            " 0   order_id       112650 non-null  object \n",
            " 1   order_item_id  112650 non-null  int64  \n",
            " 2   product_id     112650 non-null  object \n",
            " 3   seller_id      112650 non-null  object \n",
            " 4   price          112650 non-null  float64\n",
            "dtypes: float64(1), int64(1), object(3)\n",
            "memory usage: 4.3+ MB\n",
            "None\n"
          ]
        }
      ]
    },
    {
      "cell_type": "markdown",
      "source": [
        "#_2. 시각화"
      ],
      "metadata": {
        "id": "CGxw8rZ_aJCq"
      }
    },
    {
      "cell_type": "markdown",
      "source": [
        "## 2.1. 어떤 유저가 2018년에 가장 많이 구매했는가?\n",
        "\n",
        "> 목적: VIP 유저 리스트 추출하기\n",
        "\n",
        "* 리스트 출력:\n",
        "  * customer_unique_id | 2018년 총 상품 구매 금액 | 2018년 첫 상품 구매 | 2018년 마지막 구매 | 2018년 구매 빈도 수\n",
        "\n",
        "* 시각화:  \n",
        "  * 구매 금액별 유저 count? (히스토그램)\n",
        "  * 구매 금액 x 축 / 구매 빈도 수 y 축 : 유저 클러스터링"
      ],
      "metadata": {
        "id": "j4XL_B7gUi9b"
      }
    },
    {
      "cell_type": "markdown",
      "source": [
        "### 2.1.1 데이터 준비 (merge)\n",
        "- orders(order_id, order_purchase_year, month, day)  - customers(customer_unique_id) - order_items (price)"
      ],
      "metadata": {
        "id": "JQp0wY4plZ4h"
      }
    },
    {
      "cell_type": "code",
      "source": [
        "# df_ord.info()"
      ],
      "metadata": {
        "id": "Ae-HyNMOjLO6"
      },
      "execution_count": 52,
      "outputs": []
    },
    {
      "cell_type": "code",
      "source": [
        "# df_ord와 df_customer customer_id 기준 inner join\n",
        "\n",
        "print('='* 50 +'\\n')\n",
        "print(f'merge 전 - df_ord: {df_ord.shape}')\n",
        "print(f'merge 전 - df_customer: {df_customer.shape}\\n')\n",
        "\n",
        "print('='* 50 +'\\n')\n",
        "\n",
        "df_ord_customer = pd.merge(df_ord, df_customer, on ='customer_id', how ='inner') # 주문 내역이 있는 customer만 남음\n",
        "\n",
        "print(f'merge 후 - df_ord_customer: {df_ord_customer.shape}\\n')\n",
        "\n",
        "df_ord_customer.info()\n"
      ],
      "metadata": {
        "colab": {
          "base_uri": "https://localhost:8080/"
        },
        "id": "qegId5pxUjO4",
        "outputId": "56e0e61d-342c-43b6-af2d-9e3451917ace"
      },
      "execution_count": 65,
      "outputs": [
        {
          "output_type": "stream",
          "name": "stdout",
          "text": [
            "==================================================\n",
            "\n",
            "merge 전 - df_ord: (96211, 7)\n",
            "merge 전 - df_customer: (99441, 3)\n",
            "\n",
            "==================================================\n",
            "\n",
            "merge 후 - df_ord_customer: (96211, 9)\n",
            "\n",
            "<class 'pandas.core.frame.DataFrame'>\n",
            "Int64Index: 96211 entries, 0 to 96210\n",
            "Data columns (total 9 columns):\n",
            " #   Column                    Non-Null Count  Dtype         \n",
            "---  ------                    --------------  -----         \n",
            " 0   order_id                  96211 non-null  object        \n",
            " 1   customer_id               96211 non-null  object        \n",
            " 2   order_status              96211 non-null  object        \n",
            " 3   order_purchase_timestamp  96211 non-null  datetime64[ns]\n",
            " 4   order_purchase_year       96211 non-null  int64         \n",
            " 5   order_purchase_month      96211 non-null  int64         \n",
            " 6   order_purchase_day        96211 non-null  int64         \n",
            " 7   customer_unique_id        96211 non-null  object        \n",
            " 8   customer_state            96211 non-null  object        \n",
            "dtypes: datetime64[ns](1), int64(3), object(5)\n",
            "memory usage: 7.3+ MB\n"
          ]
        }
      ]
    },
    {
      "cell_type": "code",
      "source": [
        "# df_ord_customer와 df_it를 order_id 기준 inner join\n",
        "\n",
        "print('='* 50 +'\\n')\n",
        "print(f'merge 전 - df_ord_customer: {df_ord_customer.shape}')\n",
        "print(f'merge 전 - df_it: {df_it.shape}\\n')\n",
        "\n",
        "print('='* 50 +'\\n')\n",
        "\n",
        "df_ord_customer_it = pd.merge(df_ord_customer, df_it, on ='order_id', how ='inner')\n",
        "\n",
        "print(f'merge 후 - df_ord_customer_it: {df_ord_customer_it.shape}\\n')\n",
        "\n",
        "df_ord_customer_it.info()\n"
      ],
      "metadata": {
        "colab": {
          "base_uri": "https://localhost:8080/"
        },
        "id": "LBggGcLrkSwK",
        "outputId": "564ea413-8392-406b-999e-491fb78bbf43"
      },
      "execution_count": 63,
      "outputs": [
        {
          "output_type": "stream",
          "name": "stdout",
          "text": [
            "==================================================\n",
            "\n",
            "merge 전 - df_ord_customer: (96211, 9)\n",
            "merge 전 - df_it: (112650, 5)\n",
            "\n",
            "==================================================\n",
            "\n",
            "merge 후 - df_ord_customer_it: (109880, 13)\n",
            "\n",
            "<class 'pandas.core.frame.DataFrame'>\n",
            "Int64Index: 109880 entries, 0 to 109879\n",
            "Data columns (total 13 columns):\n",
            " #   Column                    Non-Null Count   Dtype         \n",
            "---  ------                    --------------   -----         \n",
            " 0   order_id                  109880 non-null  object        \n",
            " 1   customer_id               109880 non-null  object        \n",
            " 2   order_status              109880 non-null  object        \n",
            " 3   order_purchase_timestamp  109880 non-null  datetime64[ns]\n",
            " 4   order_purchase_year       109880 non-null  int64         \n",
            " 5   order_purchase_month      109880 non-null  int64         \n",
            " 6   order_purchase_day        109880 non-null  int64         \n",
            " 7   customer_unique_id        109880 non-null  object        \n",
            " 8   customer_state            109880 non-null  object        \n",
            " 9   order_item_id             109880 non-null  int64         \n",
            " 10  product_id                109880 non-null  object        \n",
            " 11  seller_id                 109880 non-null  object        \n",
            " 12  price                     109880 non-null  float64       \n",
            "dtypes: datetime64[ns](1), float64(1), int64(4), object(7)\n",
            "memory usage: 11.7+ MB\n"
          ]
        }
      ]
    },
    {
      "cell_type": "code",
      "source": [
        "df_ord_customer_it[['order_id', 'order_item_id']].nunique()"
      ],
      "metadata": {
        "colab": {
          "base_uri": "https://localhost:8080/"
        },
        "id": "ZjKV_VN2nHJQ",
        "outputId": "f8332b1c-7f96-450d-dc67-37a1e9a3fcd2"
      },
      "execution_count": 64,
      "outputs": [
        {
          "output_type": "execute_result",
          "data": {
            "text/plain": [
              "order_id         96211\n",
              "order_item_id       21\n",
              "dtype: int64"
            ]
          },
          "metadata": {},
          "execution_count": 64
        }
      ]
    },
    {
      "cell_type": "code",
      "source": [
        "# 필요한 컬럼만 추출하기\n",
        "\n",
        "df_ord_customer_it = df_ord_customer_it[['order_id', 'customer_unique_id', 'order_item_id', 'price','order_purchase_year', 'order_purchase_month', 'order_purchase_day']]\n",
        "df_ord_customer_it.info()"
      ],
      "metadata": {
        "colab": {
          "base_uri": "https://localhost:8080/"
        },
        "id": "Oweph8tVjukF",
        "outputId": "4ef41b56-f185-4de1-a644-7e2e11929506"
      },
      "execution_count": 60,
      "outputs": [
        {
          "output_type": "stream",
          "name": "stdout",
          "text": [
            "<class 'pandas.core.frame.DataFrame'>\n",
            "Int64Index: 109880 entries, 0 to 109879\n",
            "Data columns (total 7 columns):\n",
            " #   Column                Non-Null Count   Dtype  \n",
            "---  ------                --------------   -----  \n",
            " 0   order_id              109880 non-null  object \n",
            " 1   customer_unique_id    109880 non-null  object \n",
            " 2   order_item_id         109880 non-null  int64  \n",
            " 3   price                 109880 non-null  float64\n",
            " 4   order_purchase_year   109880 non-null  int64  \n",
            " 5   order_purchase_month  109880 non-null  int64  \n",
            " 6   order_purchase_day    109880 non-null  int64  \n",
            "dtypes: float64(1), int64(4), object(2)\n",
            "memory usage: 6.7+ MB\n"
          ]
        }
      ]
    },
    {
      "cell_type": "code",
      "source": [
        "df_ord_customer_it.head() # 이 상태에서 customer_unique_id 기준으로 집계"
      ],
      "metadata": {
        "colab": {
          "base_uri": "https://localhost:8080/",
          "height": 206
        },
        "id": "YNAkXlQblTcr",
        "outputId": "3b052275-6ef0-4fa3-d167-7fba8d0e2227"
      },
      "execution_count": 61,
      "outputs": [
        {
          "output_type": "execute_result",
          "data": {
            "text/plain": [
              "                           order_id                customer_unique_id  \\\n",
              "0  e481f51cbdc54678b7cc49136f2d6af7  7c396fd4830fd04220f754e42b4e5bff   \n",
              "1  53cdb2fc8bc7dce0b6741e2150273451  af07308b275d755c9edb36a90c618231   \n",
              "2  47770eb9100c2d0c44946d9cf07ec65d  3a653a41f6f9fc3d2a113cf8398680e8   \n",
              "3  949d5b44dbf5de918fe9c16f97b45f8a  7c142cf63193a1473d2e66489a9ae977   \n",
              "4  ad21c59c0840e6cb83a9ceb5573f8159  72632f0f9dd73dfee390c9b22eb56dd6   \n",
              "\n",
              "   order_item_id   price  order_purchase_year  order_purchase_month  \\\n",
              "0              1   29.99                 2017                    10   \n",
              "1              1  118.70                 2018                     7   \n",
              "2              1  159.90                 2018                     8   \n",
              "3              1   45.00                 2017                    11   \n",
              "4              1   19.90                 2018                     2   \n",
              "\n",
              "   order_purchase_day  \n",
              "0                   2  \n",
              "1                  24  \n",
              "2                   8  \n",
              "3                  18  \n",
              "4                  13  "
            ],
            "text/html": [
              "\n",
              "\n",
              "  <div id=\"df-f384fc81-83c4-44fc-9402-704207a6b63c\">\n",
              "    <div class=\"colab-df-container\">\n",
              "      <div>\n",
              "<style scoped>\n",
              "    .dataframe tbody tr th:only-of-type {\n",
              "        vertical-align: middle;\n",
              "    }\n",
              "\n",
              "    .dataframe tbody tr th {\n",
              "        vertical-align: top;\n",
              "    }\n",
              "\n",
              "    .dataframe thead th {\n",
              "        text-align: right;\n",
              "    }\n",
              "</style>\n",
              "<table border=\"1\" class=\"dataframe\">\n",
              "  <thead>\n",
              "    <tr style=\"text-align: right;\">\n",
              "      <th></th>\n",
              "      <th>order_id</th>\n",
              "      <th>customer_unique_id</th>\n",
              "      <th>order_item_id</th>\n",
              "      <th>price</th>\n",
              "      <th>order_purchase_year</th>\n",
              "      <th>order_purchase_month</th>\n",
              "      <th>order_purchase_day</th>\n",
              "    </tr>\n",
              "  </thead>\n",
              "  <tbody>\n",
              "    <tr>\n",
              "      <th>0</th>\n",
              "      <td>e481f51cbdc54678b7cc49136f2d6af7</td>\n",
              "      <td>7c396fd4830fd04220f754e42b4e5bff</td>\n",
              "      <td>1</td>\n",
              "      <td>29.99</td>\n",
              "      <td>2017</td>\n",
              "      <td>10</td>\n",
              "      <td>2</td>\n",
              "    </tr>\n",
              "    <tr>\n",
              "      <th>1</th>\n",
              "      <td>53cdb2fc8bc7dce0b6741e2150273451</td>\n",
              "      <td>af07308b275d755c9edb36a90c618231</td>\n",
              "      <td>1</td>\n",
              "      <td>118.70</td>\n",
              "      <td>2018</td>\n",
              "      <td>7</td>\n",
              "      <td>24</td>\n",
              "    </tr>\n",
              "    <tr>\n",
              "      <th>2</th>\n",
              "      <td>47770eb9100c2d0c44946d9cf07ec65d</td>\n",
              "      <td>3a653a41f6f9fc3d2a113cf8398680e8</td>\n",
              "      <td>1</td>\n",
              "      <td>159.90</td>\n",
              "      <td>2018</td>\n",
              "      <td>8</td>\n",
              "      <td>8</td>\n",
              "    </tr>\n",
              "    <tr>\n",
              "      <th>3</th>\n",
              "      <td>949d5b44dbf5de918fe9c16f97b45f8a</td>\n",
              "      <td>7c142cf63193a1473d2e66489a9ae977</td>\n",
              "      <td>1</td>\n",
              "      <td>45.00</td>\n",
              "      <td>2017</td>\n",
              "      <td>11</td>\n",
              "      <td>18</td>\n",
              "    </tr>\n",
              "    <tr>\n",
              "      <th>4</th>\n",
              "      <td>ad21c59c0840e6cb83a9ceb5573f8159</td>\n",
              "      <td>72632f0f9dd73dfee390c9b22eb56dd6</td>\n",
              "      <td>1</td>\n",
              "      <td>19.90</td>\n",
              "      <td>2018</td>\n",
              "      <td>2</td>\n",
              "      <td>13</td>\n",
              "    </tr>\n",
              "  </tbody>\n",
              "</table>\n",
              "</div>\n",
              "      <button class=\"colab-df-convert\" onclick=\"convertToInteractive('df-f384fc81-83c4-44fc-9402-704207a6b63c')\"\n",
              "              title=\"Convert this dataframe to an interactive table.\"\n",
              "              style=\"display:none;\">\n",
              "\n",
              "  <svg xmlns=\"http://www.w3.org/2000/svg\" height=\"24px\"viewBox=\"0 0 24 24\"\n",
              "       width=\"24px\">\n",
              "    <path d=\"M0 0h24v24H0V0z\" fill=\"none\"/>\n",
              "    <path d=\"M18.56 5.44l.94 2.06.94-2.06 2.06-.94-2.06-.94-.94-2.06-.94 2.06-2.06.94zm-11 1L8.5 8.5l.94-2.06 2.06-.94-2.06-.94L8.5 2.5l-.94 2.06-2.06.94zm10 10l.94 2.06.94-2.06 2.06-.94-2.06-.94-.94-2.06-.94 2.06-2.06.94z\"/><path d=\"M17.41 7.96l-1.37-1.37c-.4-.4-.92-.59-1.43-.59-.52 0-1.04.2-1.43.59L10.3 9.45l-7.72 7.72c-.78.78-.78 2.05 0 2.83L4 21.41c.39.39.9.59 1.41.59.51 0 1.02-.2 1.41-.59l7.78-7.78 2.81-2.81c.8-.78.8-2.07 0-2.86zM5.41 20L4 18.59l7.72-7.72 1.47 1.35L5.41 20z\"/>\n",
              "  </svg>\n",
              "      </button>\n",
              "\n",
              "\n",
              "\n",
              "    <div id=\"df-3280d276-1321-4b53-9d77-89974e9b952c\">\n",
              "      <button class=\"colab-df-quickchart\" onclick=\"quickchart('df-3280d276-1321-4b53-9d77-89974e9b952c')\"\n",
              "              title=\"Suggest charts.\"\n",
              "              style=\"display:none;\">\n",
              "\n",
              "<svg xmlns=\"http://www.w3.org/2000/svg\" height=\"24px\"viewBox=\"0 0 24 24\"\n",
              "     width=\"24px\">\n",
              "    <g>\n",
              "        <path d=\"M19 3H5c-1.1 0-2 .9-2 2v14c0 1.1.9 2 2 2h14c1.1 0 2-.9 2-2V5c0-1.1-.9-2-2-2zM9 17H7v-7h2v7zm4 0h-2V7h2v10zm4 0h-2v-4h2v4z\"/>\n",
              "    </g>\n",
              "</svg>\n",
              "      </button>\n",
              "    </div>\n",
              "\n",
              "<style>\n",
              "  .colab-df-quickchart {\n",
              "    background-color: #E8F0FE;\n",
              "    border: none;\n",
              "    border-radius: 50%;\n",
              "    cursor: pointer;\n",
              "    display: none;\n",
              "    fill: #1967D2;\n",
              "    height: 32px;\n",
              "    padding: 0 0 0 0;\n",
              "    width: 32px;\n",
              "  }\n",
              "\n",
              "  .colab-df-quickchart:hover {\n",
              "    background-color: #E2EBFA;\n",
              "    box-shadow: 0px 1px 2px rgba(60, 64, 67, 0.3), 0px 1px 3px 1px rgba(60, 64, 67, 0.15);\n",
              "    fill: #174EA6;\n",
              "  }\n",
              "\n",
              "  [theme=dark] .colab-df-quickchart {\n",
              "    background-color: #3B4455;\n",
              "    fill: #D2E3FC;\n",
              "  }\n",
              "\n",
              "  [theme=dark] .colab-df-quickchart:hover {\n",
              "    background-color: #434B5C;\n",
              "    box-shadow: 0px 1px 3px 1px rgba(0, 0, 0, 0.15);\n",
              "    filter: drop-shadow(0px 1px 2px rgba(0, 0, 0, 0.3));\n",
              "    fill: #FFFFFF;\n",
              "  }\n",
              "</style>\n",
              "\n",
              "    <script>\n",
              "      async function quickchart(key) {\n",
              "        const containerElement = document.querySelector('#' + key);\n",
              "        const charts = await google.colab.kernel.invokeFunction(\n",
              "            'suggestCharts', [key], {});\n",
              "      }\n",
              "    </script>\n",
              "\n",
              "      <script>\n",
              "\n",
              "function displayQuickchartButton(domScope) {\n",
              "  let quickchartButtonEl =\n",
              "    domScope.querySelector('#df-3280d276-1321-4b53-9d77-89974e9b952c button.colab-df-quickchart');\n",
              "  quickchartButtonEl.style.display =\n",
              "    google.colab.kernel.accessAllowed ? 'block' : 'none';\n",
              "}\n",
              "\n",
              "        displayQuickchartButton(document);\n",
              "      </script>\n",
              "      <style>\n",
              "    .colab-df-container {\n",
              "      display:flex;\n",
              "      flex-wrap:wrap;\n",
              "      gap: 12px;\n",
              "    }\n",
              "\n",
              "    .colab-df-convert {\n",
              "      background-color: #E8F0FE;\n",
              "      border: none;\n",
              "      border-radius: 50%;\n",
              "      cursor: pointer;\n",
              "      display: none;\n",
              "      fill: #1967D2;\n",
              "      height: 32px;\n",
              "      padding: 0 0 0 0;\n",
              "      width: 32px;\n",
              "    }\n",
              "\n",
              "    .colab-df-convert:hover {\n",
              "      background-color: #E2EBFA;\n",
              "      box-shadow: 0px 1px 2px rgba(60, 64, 67, 0.3), 0px 1px 3px 1px rgba(60, 64, 67, 0.15);\n",
              "      fill: #174EA6;\n",
              "    }\n",
              "\n",
              "    [theme=dark] .colab-df-convert {\n",
              "      background-color: #3B4455;\n",
              "      fill: #D2E3FC;\n",
              "    }\n",
              "\n",
              "    [theme=dark] .colab-df-convert:hover {\n",
              "      background-color: #434B5C;\n",
              "      box-shadow: 0px 1px 3px 1px rgba(0, 0, 0, 0.15);\n",
              "      filter: drop-shadow(0px 1px 2px rgba(0, 0, 0, 0.3));\n",
              "      fill: #FFFFFF;\n",
              "    }\n",
              "  </style>\n",
              "\n",
              "      <script>\n",
              "        const buttonEl =\n",
              "          document.querySelector('#df-f384fc81-83c4-44fc-9402-704207a6b63c button.colab-df-convert');\n",
              "        buttonEl.style.display =\n",
              "          google.colab.kernel.accessAllowed ? 'block' : 'none';\n",
              "\n",
              "        async function convertToInteractive(key) {\n",
              "          const element = document.querySelector('#df-f384fc81-83c4-44fc-9402-704207a6b63c');\n",
              "          const dataTable =\n",
              "            await google.colab.kernel.invokeFunction('convertToInteractive',\n",
              "                                                     [key], {});\n",
              "          if (!dataTable) return;\n",
              "\n",
              "          const docLinkHtml = 'Like what you see? Visit the ' +\n",
              "            '<a target=\"_blank\" href=https://colab.research.google.com/notebooks/data_table.ipynb>data table notebook</a>'\n",
              "            + ' to learn more about interactive tables.';\n",
              "          element.innerHTML = '';\n",
              "          dataTable['output_type'] = 'display_data';\n",
              "          await google.colab.output.renderOutput(dataTable, element);\n",
              "          const docLink = document.createElement('div');\n",
              "          docLink.innerHTML = docLinkHtml;\n",
              "          element.appendChild(docLink);\n",
              "        }\n",
              "      </script>\n",
              "    </div>\n",
              "  </div>\n"
            ]
          },
          "metadata": {},
          "execution_count": 61
        }
      ]
    },
    {
      "cell_type": "markdown",
      "source": [
        "### 2.2.2 집계 (df 가공)\n",
        "* 리스트 출력:\n",
        "  * customer_unique_id | 2018년 총 상품 구매 금액 | 2018년 첫 상품 구매 | 2018년 마지막 구매 | 2018년 구매 빈도 수"
      ],
      "metadata": {
        "id": "Kv2mVZ9ilYzN"
      }
    },
    {
      "cell_type": "code",
      "source": [
        "df_ord_customer_it.info()"
      ],
      "metadata": {
        "colab": {
          "base_uri": "https://localhost:8080/"
        },
        "id": "mSMDtMq2qLpx",
        "outputId": "c5b07add-37bd-41cf-fcdf-a1505f65949c"
      },
      "execution_count": 66,
      "outputs": [
        {
          "output_type": "stream",
          "name": "stdout",
          "text": [
            "<class 'pandas.core.frame.DataFrame'>\n",
            "Int64Index: 109880 entries, 0 to 109879\n",
            "Data columns (total 13 columns):\n",
            " #   Column                    Non-Null Count   Dtype         \n",
            "---  ------                    --------------   -----         \n",
            " 0   order_id                  109880 non-null  object        \n",
            " 1   customer_id               109880 non-null  object        \n",
            " 2   order_status              109880 non-null  object        \n",
            " 3   order_purchase_timestamp  109880 non-null  datetime64[ns]\n",
            " 4   order_purchase_year       109880 non-null  int64         \n",
            " 5   order_purchase_month      109880 non-null  int64         \n",
            " 6   order_purchase_day        109880 non-null  int64         \n",
            " 7   customer_unique_id        109880 non-null  object        \n",
            " 8   customer_state            109880 non-null  object        \n",
            " 9   order_item_id             109880 non-null  int64         \n",
            " 10  product_id                109880 non-null  object        \n",
            " 11  seller_id                 109880 non-null  object        \n",
            " 12  price                     109880 non-null  float64       \n",
            "dtypes: datetime64[ns](1), float64(1), int64(4), object(7)\n",
            "memory usage: 11.7+ MB\n"
          ]
        }
      ]
    },
    {
      "cell_type": "code",
      "source": [
        "# 2018년 VIP 고객\n",
        "\n",
        "df_vip_2018 = df_ord_customer_it[ df_ord_customer_it['order_purchase_year']  == 2018 ]\n",
        "\n"
      ],
      "metadata": {
        "id": "B2ZFHg0olVQl"
      },
      "execution_count": 61,
      "outputs": []
    },
    {
      "cell_type": "code",
      "source": [
        "# 2017년 VIP 고객\n",
        "\n",
        "df_vip_2017 = df_ord_customer_it[ df_ord_customer_it['order_purchase_year']  == 2017 ]\n",
        "\n"
      ],
      "metadata": {
        "id": "EVUrDcXylVaK"
      },
      "execution_count": 61,
      "outputs": []
    },
    {
      "cell_type": "markdown",
      "source": [
        "### 2.2.3 시각화"
      ],
      "metadata": {
        "id": "cLvVHPA4mb4j"
      }
    },
    {
      "cell_type": "code",
      "source": [],
      "metadata": {
        "id": "0YaP3GEzmcAf"
      },
      "execution_count": null,
      "outputs": []
    },
    {
      "cell_type": "code",
      "source": [],
      "metadata": {
        "id": "_j6CjZmKmcDH"
      },
      "execution_count": null,
      "outputs": []
    },
    {
      "cell_type": "markdown",
      "source": [
        "## 2.2. 어떤 유저가 2018년에 가장 많이 구매했는가?"
      ],
      "metadata": {
        "id": "6Hcv20HBZ3Cu"
      }
    },
    {
      "cell_type": "code",
      "source": [],
      "metadata": {
        "id": "z04ZQ9elaQDe"
      },
      "execution_count": 61,
      "outputs": []
    },
    {
      "cell_type": "code",
      "source": [],
      "metadata": {
        "id": "71cetFY2aQFp"
      },
      "execution_count": 61,
      "outputs": []
    },
    {
      "cell_type": "markdown",
      "source": [
        "# _3. 결론"
      ],
      "metadata": {
        "id": "l25Bu00NaYdu"
      }
    },
    {
      "cell_type": "code",
      "source": [],
      "metadata": {
        "id": "4Vh-CToDaZIq"
      },
      "execution_count": 61,
      "outputs": []
    },
    {
      "cell_type": "code",
      "source": [],
      "metadata": {
        "id": "x8ZOw9uraZKw"
      },
      "execution_count": 61,
      "outputs": []
    }
  ]
}