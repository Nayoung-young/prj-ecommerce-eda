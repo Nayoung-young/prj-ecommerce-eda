{
  "nbformat": 4,
  "nbformat_minor": 0,
  "metadata": {
    "colab": {
      "provenance": [],
      "toc_visible": true,
      "mount_file_id": "15yooydP7o-d7aFd0tpmzZojlZsr6onMx",
      "authorship_tag": "ABX9TyPH1Zo3fL37VVq5keZf80p0",
      "include_colab_link": true
    },
    "kernelspec": {
      "name": "python3",
      "display_name": "Python 3"
    },
    "language_info": {
      "name": "python"
    }
  },
  "cells": [
    {
      "cell_type": "markdown",
      "metadata": {
        "id": "view-in-github",
        "colab_type": "text"
      },
      "source": [
        "<a href=\"https://colab.research.google.com/github/Nayoung-young/prj-ecommerce-eda/blob/main/User_Analysis.ipynb\" target=\"_parent\"><img src=\"https://colab.research.google.com/assets/colab-badge.svg\" alt=\"Open In Colab\"/></a>"
      ]
    },
    {
      "cell_type": "markdown",
      "source": [
        "# 유저 성과 분석 (4번)"
      ],
      "metadata": {
        "id": "fSlYn72uTs9v"
      }
    },
    {
      "cell_type": "code",
      "source": [
        "# 라이브러리 임포트\n",
        "\n",
        "import matplotlib.pyplot as plt\n",
        "import seaborn as sns\n",
        "import numpy as np\n",
        "import pandas as pd\n"
      ],
      "metadata": {
        "id": "aIBKN9LITQhP"
      },
      "execution_count": 74,
      "outputs": []
    },
    {
      "cell_type": "markdown",
      "source": [
        "# _1. 데이터 전처리"
      ],
      "metadata": {
        "id": "t1dv_2aSZ-Yi"
      }
    },
    {
      "cell_type": "markdown",
      "source": [
        "## 1.1. 데이터셋 불러오기"
      ],
      "metadata": {
        "id": "avT1plvIS3BF"
      }
    },
    {
      "cell_type": "code",
      "execution_count": 164,
      "metadata": {
        "id": "UVhbScS8SyAp",
        "colab": {
          "base_uri": "https://localhost:8080/"
        },
        "outputId": "906d9d4a-bbbc-427a-aa62-9c41a065cea6"
      },
      "outputs": [
        {
          "output_type": "stream",
          "name": "stdout",
          "text": [
            "CPU times: user 1.68 s, sys: 157 ms, total: 1.84 s\n",
            "Wall time: 2.5 s\n"
          ]
        }
      ],
      "source": [
        "%%time\n",
        "df_re_org = pd.read_csv('/content/drive/MyDrive/dataset_2023/패스트캠퍼스/bootcamp-python-project/olist_order_reviews_dataset.csv')\n",
        "\n",
        "df_customer_org = pd.read_csv('/content/drive/MyDrive/dataset_2023/패스트캠퍼스/bootcamp-python-project/olist_customers_dataset.csv')\n",
        "df_ord_org = pd.read_csv('/content/drive/MyDrive/dataset_2023/패스트캠퍼스/bootcamp-python-project/olist_orders_dataset.csv')\n",
        "df_it_org = pd.read_csv('/content/drive/MyDrive/dataset_2023/패스트캠퍼스/bootcamp-python-project/olist_order_items_dataset.csv')\n",
        "\n",
        "df_prod_org = pd.read_csv('/content/drive/MyDrive/dataset_2023/패스트캠퍼스/bootcamp-python-project/olist_products_dataset.csv')\n",
        "df_seller_org = pd.read_csv('/content/drive/MyDrive/dataset_2023/패스트캠퍼스/bootcamp-python-project/olist_sellers_dataset.csv')"
      ]
    },
    {
      "cell_type": "code",
      "source": [
        "df_re_org.info()"
      ],
      "metadata": {
        "colab": {
          "base_uri": "https://localhost:8080/"
        },
        "id": "VuRtS13dUlxM",
        "outputId": "80dba0ca-b757-4a2b-f6e6-530351589dff"
      },
      "execution_count": 76,
      "outputs": [
        {
          "output_type": "stream",
          "name": "stdout",
          "text": [
            "<class 'pandas.core.frame.DataFrame'>\n",
            "RangeIndex: 99224 entries, 0 to 99223\n",
            "Data columns (total 7 columns):\n",
            " #   Column                   Non-Null Count  Dtype \n",
            "---  ------                   --------------  ----- \n",
            " 0   review_id                99224 non-null  object\n",
            " 1   order_id                 99224 non-null  object\n",
            " 2   review_score             99224 non-null  int64 \n",
            " 3   review_comment_title     11568 non-null  object\n",
            " 4   review_comment_message   40977 non-null  object\n",
            " 5   review_creation_date     99224 non-null  object\n",
            " 6   review_answer_timestamp  99224 non-null  object\n",
            "dtypes: int64(1), object(6)\n",
            "memory usage: 5.3+ MB\n"
          ]
        }
      ]
    },
    {
      "cell_type": "code",
      "source": [
        "df_customer_org.info()"
      ],
      "metadata": {
        "colab": {
          "base_uri": "https://localhost:8080/"
        },
        "id": "Kp7c4QUTUuqy",
        "outputId": "46897538-c1fb-412c-98bb-4938684ca957"
      },
      "execution_count": 77,
      "outputs": [
        {
          "output_type": "stream",
          "name": "stdout",
          "text": [
            "<class 'pandas.core.frame.DataFrame'>\n",
            "RangeIndex: 99441 entries, 0 to 99440\n",
            "Data columns (total 5 columns):\n",
            " #   Column                    Non-Null Count  Dtype \n",
            "---  ------                    --------------  ----- \n",
            " 0   customer_id               99441 non-null  object\n",
            " 1   customer_unique_id        99441 non-null  object\n",
            " 2   customer_zip_code_prefix  99441 non-null  int64 \n",
            " 3   customer_city             99441 non-null  object\n",
            " 4   customer_state            99441 non-null  object\n",
            "dtypes: int64(1), object(4)\n",
            "memory usage: 3.8+ MB\n"
          ]
        }
      ]
    },
    {
      "cell_type": "code",
      "source": [
        "df_ord_org.info()"
      ],
      "metadata": {
        "colab": {
          "base_uri": "https://localhost:8080/"
        },
        "id": "AVV1Rk6EVPdp",
        "outputId": "9b97f19a-30d7-4471-91eb-d5db9fd1795b"
      },
      "execution_count": 78,
      "outputs": [
        {
          "output_type": "stream",
          "name": "stdout",
          "text": [
            "<class 'pandas.core.frame.DataFrame'>\n",
            "RangeIndex: 99441 entries, 0 to 99440\n",
            "Data columns (total 8 columns):\n",
            " #   Column                         Non-Null Count  Dtype \n",
            "---  ------                         --------------  ----- \n",
            " 0   order_id                       99441 non-null  object\n",
            " 1   customer_id                    99441 non-null  object\n",
            " 2   order_status                   99441 non-null  object\n",
            " 3   order_purchase_timestamp       99441 non-null  object\n",
            " 4   order_approved_at              99281 non-null  object\n",
            " 5   order_delivered_carrier_date   97658 non-null  object\n",
            " 6   order_delivered_customer_date  96476 non-null  object\n",
            " 7   order_estimated_delivery_date  99441 non-null  object\n",
            "dtypes: object(8)\n",
            "memory usage: 6.1+ MB\n"
          ]
        }
      ]
    },
    {
      "cell_type": "code",
      "source": [
        "# df_ord_org[['order_approved_at', 'order_delivered_carrier_date']].isna().sum()"
      ],
      "metadata": {
        "id": "bDnDWy8ghXSu"
      },
      "execution_count": 79,
      "outputs": []
    },
    {
      "cell_type": "code",
      "source": [
        "# df_ord_org[ df_ord_org[['order_approved_at', 'order_delivered_carrier_date']].isna() ]"
      ],
      "metadata": {
        "id": "exRnacp5faCl"
      },
      "execution_count": 80,
      "outputs": []
    },
    {
      "cell_type": "code",
      "source": [
        "df_it_org.info()"
      ],
      "metadata": {
        "colab": {
          "base_uri": "https://localhost:8080/"
        },
        "id": "-ddJFpbJapZI",
        "outputId": "9b377e6b-da30-4788-b5ed-0fcaf4274a7b"
      },
      "execution_count": 81,
      "outputs": [
        {
          "output_type": "stream",
          "name": "stdout",
          "text": [
            "<class 'pandas.core.frame.DataFrame'>\n",
            "RangeIndex: 112650 entries, 0 to 112649\n",
            "Data columns (total 7 columns):\n",
            " #   Column               Non-Null Count   Dtype  \n",
            "---  ------               --------------   -----  \n",
            " 0   order_id             112650 non-null  object \n",
            " 1   order_item_id        112650 non-null  int64  \n",
            " 2   product_id           112650 non-null  object \n",
            " 3   seller_id            112650 non-null  object \n",
            " 4   shipping_limit_date  112650 non-null  object \n",
            " 5   price                112650 non-null  float64\n",
            " 6   freight_value        112650 non-null  float64\n",
            "dtypes: float64(2), int64(1), object(4)\n",
            "memory usage: 6.0+ MB\n"
          ]
        }
      ]
    },
    {
      "cell_type": "markdown",
      "source": [
        "## 1.2. 전처리"
      ],
      "metadata": {
        "id": "BwDx7P80VXfh"
      }
    },
    {
      "cell_type": "code",
      "source": [
        "# df_ord 전처리\n",
        "\n",
        "df_ord = df_ord_org.copy()\n",
        "\n",
        "print('='* 50 +'\\n')\n",
        "print('df_ord\\n')\n",
        "print(f'전처리 전: {df_ord.shape}')\n",
        "\n",
        "## 1) 필요한 컬럼만 남기기\n",
        "\n",
        "df_ord = df_ord_org[['order_id', 'customer_id', 'order_status', 'order_purchase_timestamp']]\n",
        "\n",
        "## 2) order_status == 'delivered'\n",
        "\n",
        "df_ord = df_ord[ df_ord['order_status'] == 'delivered' ]\n",
        "\n",
        "## 3) order_purchase_year, month 추가\n",
        "\n",
        "df_ord['order_purchase_timestamp'] = pd.to_datetime(df_ord['order_purchase_timestamp'])\n",
        "\n",
        "df_ord['order_purchase_date'] = df_ord['order_purchase_timestamp'].dt.date\n",
        "df_ord['order_purchase_year'] = df_ord['order_purchase_timestamp'].dt.year\n",
        "df_ord['order_purchase_month'] = df_ord['order_purchase_timestamp'].dt.month\n",
        "\n",
        "\n",
        "# df_ord.drop(columns = ['order_purchase_timestamp'], inplace=True)\n",
        "\n",
        "## 4) order_purchase_year == 2017 만 포함\n",
        "\n",
        "df_ord = df_ord[ df_ord['order_purchase_year'] == 2017 ]\n",
        "\n",
        "print(f'전처리 후: {df_ord.shape}\\n')\n",
        "print('='* 50 +'\\n')\n",
        "\n",
        "print(df_ord.info())"
      ],
      "metadata": {
        "colab": {
          "base_uri": "https://localhost:8080/"
        },
        "id": "MtSneyT_VW8K",
        "outputId": "c8fdfa67-fa44-4dcf-f0da-06382db3f41d"
      },
      "execution_count": 82,
      "outputs": [
        {
          "output_type": "stream",
          "name": "stdout",
          "text": [
            "==================================================\n",
            "\n",
            "df_ord\n",
            "\n",
            "전처리 전: (99441, 8)\n",
            "전처리 후: (43428, 7)\n",
            "\n",
            "==================================================\n",
            "\n",
            "<class 'pandas.core.frame.DataFrame'>\n",
            "Int64Index: 43428 entries, 0 to 99438\n",
            "Data columns (total 7 columns):\n",
            " #   Column                    Non-Null Count  Dtype         \n",
            "---  ------                    --------------  -----         \n",
            " 0   order_id                  43428 non-null  object        \n",
            " 1   customer_id               43428 non-null  object        \n",
            " 2   order_status              43428 non-null  object        \n",
            " 3   order_purchase_timestamp  43428 non-null  datetime64[ns]\n",
            " 4   order_purchase_date       43428 non-null  object        \n",
            " 5   order_purchase_year       43428 non-null  int64         \n",
            " 6   order_purchase_month      43428 non-null  int64         \n",
            "dtypes: datetime64[ns](1), int64(2), object(4)\n",
            "memory usage: 2.7+ MB\n",
            "None\n"
          ]
        }
      ]
    },
    {
      "cell_type": "code",
      "source": [
        "df_ord['order_purchase_date'].max()"
      ],
      "metadata": {
        "colab": {
          "base_uri": "https://localhost:8080/"
        },
        "id": "QRKC2xt0Z-aS",
        "outputId": "507d9129-3b4f-4712-8c97-ad13f61bd751"
      },
      "execution_count": 83,
      "outputs": [
        {
          "output_type": "execute_result",
          "data": {
            "text/plain": [
              "datetime.date(2017, 12, 31)"
            ]
          },
          "metadata": {},
          "execution_count": 83
        }
      ]
    },
    {
      "cell_type": "code",
      "source": [
        "df_ord['order_purchase_date'].max()"
      ],
      "metadata": {
        "colab": {
          "base_uri": "https://localhost:8080/"
        },
        "id": "XCECLKzGaEi-",
        "outputId": "0ac585b0-39e8-47a7-fea6-36802d77ce56"
      },
      "execution_count": 84,
      "outputs": [
        {
          "output_type": "execute_result",
          "data": {
            "text/plain": [
              "datetime.date(2017, 12, 31)"
            ]
          },
          "metadata": {},
          "execution_count": 84
        }
      ]
    },
    {
      "cell_type": "code",
      "source": [
        "df_ord.head()"
      ],
      "metadata": {
        "colab": {
          "base_uri": "https://localhost:8080/",
          "height": 270
        },
        "id": "U0FTttHLtFTA",
        "outputId": "9fe74fc8-172b-4576-ef52-c7f7a10d12d3"
      },
      "execution_count": 85,
      "outputs": [
        {
          "output_type": "execute_result",
          "data": {
            "text/plain": [
              "                           order_id                       customer_id  \\\n",
              "0  e481f51cbdc54678b7cc49136f2d6af7  9ef432eb6251297304e76186b10a928d   \n",
              "3  949d5b44dbf5de918fe9c16f97b45f8a  f88197465ea7920adcdbec7375364d82   \n",
              "5  a4591c265e18cb1dcee52889e2d8acc3  503740e9ca751ccdda7ba28e9ab8f608   \n",
              "7  6514b8ad8028c9f2cc2374ded245783f  9bdf08b4b3b52b5526ff42d37d47f222   \n",
              "8  76c6e866289321a7c93b82b54852dc33  f54a9f0e6b351c431402b8461ea51999   \n",
              "\n",
              "  order_status order_purchase_timestamp order_purchase_date  \\\n",
              "0    delivered      2017-10-02 10:56:33          2017-10-02   \n",
              "3    delivered      2017-11-18 19:28:06          2017-11-18   \n",
              "5    delivered      2017-07-09 21:57:05          2017-07-09   \n",
              "7    delivered      2017-05-16 13:10:30          2017-05-16   \n",
              "8    delivered      2017-01-23 18:29:09          2017-01-23   \n",
              "\n",
              "   order_purchase_year  order_purchase_month  \n",
              "0                 2017                    10  \n",
              "3                 2017                    11  \n",
              "5                 2017                     7  \n",
              "7                 2017                     5  \n",
              "8                 2017                     1  "
            ],
            "text/html": [
              "\n",
              "\n",
              "  <div id=\"df-5ced45f6-ee9f-4854-ba25-43e5d621e42e\">\n",
              "    <div class=\"colab-df-container\">\n",
              "      <div>\n",
              "<style scoped>\n",
              "    .dataframe tbody tr th:only-of-type {\n",
              "        vertical-align: middle;\n",
              "    }\n",
              "\n",
              "    .dataframe tbody tr th {\n",
              "        vertical-align: top;\n",
              "    }\n",
              "\n",
              "    .dataframe thead th {\n",
              "        text-align: right;\n",
              "    }\n",
              "</style>\n",
              "<table border=\"1\" class=\"dataframe\">\n",
              "  <thead>\n",
              "    <tr style=\"text-align: right;\">\n",
              "      <th></th>\n",
              "      <th>order_id</th>\n",
              "      <th>customer_id</th>\n",
              "      <th>order_status</th>\n",
              "      <th>order_purchase_timestamp</th>\n",
              "      <th>order_purchase_date</th>\n",
              "      <th>order_purchase_year</th>\n",
              "      <th>order_purchase_month</th>\n",
              "    </tr>\n",
              "  </thead>\n",
              "  <tbody>\n",
              "    <tr>\n",
              "      <th>0</th>\n",
              "      <td>e481f51cbdc54678b7cc49136f2d6af7</td>\n",
              "      <td>9ef432eb6251297304e76186b10a928d</td>\n",
              "      <td>delivered</td>\n",
              "      <td>2017-10-02 10:56:33</td>\n",
              "      <td>2017-10-02</td>\n",
              "      <td>2017</td>\n",
              "      <td>10</td>\n",
              "    </tr>\n",
              "    <tr>\n",
              "      <th>3</th>\n",
              "      <td>949d5b44dbf5de918fe9c16f97b45f8a</td>\n",
              "      <td>f88197465ea7920adcdbec7375364d82</td>\n",
              "      <td>delivered</td>\n",
              "      <td>2017-11-18 19:28:06</td>\n",
              "      <td>2017-11-18</td>\n",
              "      <td>2017</td>\n",
              "      <td>11</td>\n",
              "    </tr>\n",
              "    <tr>\n",
              "      <th>5</th>\n",
              "      <td>a4591c265e18cb1dcee52889e2d8acc3</td>\n",
              "      <td>503740e9ca751ccdda7ba28e9ab8f608</td>\n",
              "      <td>delivered</td>\n",
              "      <td>2017-07-09 21:57:05</td>\n",
              "      <td>2017-07-09</td>\n",
              "      <td>2017</td>\n",
              "      <td>7</td>\n",
              "    </tr>\n",
              "    <tr>\n",
              "      <th>7</th>\n",
              "      <td>6514b8ad8028c9f2cc2374ded245783f</td>\n",
              "      <td>9bdf08b4b3b52b5526ff42d37d47f222</td>\n",
              "      <td>delivered</td>\n",
              "      <td>2017-05-16 13:10:30</td>\n",
              "      <td>2017-05-16</td>\n",
              "      <td>2017</td>\n",
              "      <td>5</td>\n",
              "    </tr>\n",
              "    <tr>\n",
              "      <th>8</th>\n",
              "      <td>76c6e866289321a7c93b82b54852dc33</td>\n",
              "      <td>f54a9f0e6b351c431402b8461ea51999</td>\n",
              "      <td>delivered</td>\n",
              "      <td>2017-01-23 18:29:09</td>\n",
              "      <td>2017-01-23</td>\n",
              "      <td>2017</td>\n",
              "      <td>1</td>\n",
              "    </tr>\n",
              "  </tbody>\n",
              "</table>\n",
              "</div>\n",
              "      <button class=\"colab-df-convert\" onclick=\"convertToInteractive('df-5ced45f6-ee9f-4854-ba25-43e5d621e42e')\"\n",
              "              title=\"Convert this dataframe to an interactive table.\"\n",
              "              style=\"display:none;\">\n",
              "\n",
              "  <svg xmlns=\"http://www.w3.org/2000/svg\" height=\"24px\"viewBox=\"0 0 24 24\"\n",
              "       width=\"24px\">\n",
              "    <path d=\"M0 0h24v24H0V0z\" fill=\"none\"/>\n",
              "    <path d=\"M18.56 5.44l.94 2.06.94-2.06 2.06-.94-2.06-.94-.94-2.06-.94 2.06-2.06.94zm-11 1L8.5 8.5l.94-2.06 2.06-.94-2.06-.94L8.5 2.5l-.94 2.06-2.06.94zm10 10l.94 2.06.94-2.06 2.06-.94-2.06-.94-.94-2.06-.94 2.06-2.06.94z\"/><path d=\"M17.41 7.96l-1.37-1.37c-.4-.4-.92-.59-1.43-.59-.52 0-1.04.2-1.43.59L10.3 9.45l-7.72 7.72c-.78.78-.78 2.05 0 2.83L4 21.41c.39.39.9.59 1.41.59.51 0 1.02-.2 1.41-.59l7.78-7.78 2.81-2.81c.8-.78.8-2.07 0-2.86zM5.41 20L4 18.59l7.72-7.72 1.47 1.35L5.41 20z\"/>\n",
              "  </svg>\n",
              "      </button>\n",
              "\n",
              "\n",
              "\n",
              "    <div id=\"df-bacb64a5-a1dd-43e5-94d8-6e44c9ac57a6\">\n",
              "      <button class=\"colab-df-quickchart\" onclick=\"quickchart('df-bacb64a5-a1dd-43e5-94d8-6e44c9ac57a6')\"\n",
              "              title=\"Suggest charts.\"\n",
              "              style=\"display:none;\">\n",
              "\n",
              "<svg xmlns=\"http://www.w3.org/2000/svg\" height=\"24px\"viewBox=\"0 0 24 24\"\n",
              "     width=\"24px\">\n",
              "    <g>\n",
              "        <path d=\"M19 3H5c-1.1 0-2 .9-2 2v14c0 1.1.9 2 2 2h14c1.1 0 2-.9 2-2V5c0-1.1-.9-2-2-2zM9 17H7v-7h2v7zm4 0h-2V7h2v10zm4 0h-2v-4h2v4z\"/>\n",
              "    </g>\n",
              "</svg>\n",
              "      </button>\n",
              "    </div>\n",
              "\n",
              "<style>\n",
              "  .colab-df-quickchart {\n",
              "    background-color: #E8F0FE;\n",
              "    border: none;\n",
              "    border-radius: 50%;\n",
              "    cursor: pointer;\n",
              "    display: none;\n",
              "    fill: #1967D2;\n",
              "    height: 32px;\n",
              "    padding: 0 0 0 0;\n",
              "    width: 32px;\n",
              "  }\n",
              "\n",
              "  .colab-df-quickchart:hover {\n",
              "    background-color: #E2EBFA;\n",
              "    box-shadow: 0px 1px 2px rgba(60, 64, 67, 0.3), 0px 1px 3px 1px rgba(60, 64, 67, 0.15);\n",
              "    fill: #174EA6;\n",
              "  }\n",
              "\n",
              "  [theme=dark] .colab-df-quickchart {\n",
              "    background-color: #3B4455;\n",
              "    fill: #D2E3FC;\n",
              "  }\n",
              "\n",
              "  [theme=dark] .colab-df-quickchart:hover {\n",
              "    background-color: #434B5C;\n",
              "    box-shadow: 0px 1px 3px 1px rgba(0, 0, 0, 0.15);\n",
              "    filter: drop-shadow(0px 1px 2px rgba(0, 0, 0, 0.3));\n",
              "    fill: #FFFFFF;\n",
              "  }\n",
              "</style>\n",
              "\n",
              "    <script>\n",
              "      async function quickchart(key) {\n",
              "        const containerElement = document.querySelector('#' + key);\n",
              "        const charts = await google.colab.kernel.invokeFunction(\n",
              "            'suggestCharts', [key], {});\n",
              "      }\n",
              "    </script>\n",
              "\n",
              "      <script>\n",
              "\n",
              "function displayQuickchartButton(domScope) {\n",
              "  let quickchartButtonEl =\n",
              "    domScope.querySelector('#df-bacb64a5-a1dd-43e5-94d8-6e44c9ac57a6 button.colab-df-quickchart');\n",
              "  quickchartButtonEl.style.display =\n",
              "    google.colab.kernel.accessAllowed ? 'block' : 'none';\n",
              "}\n",
              "\n",
              "        displayQuickchartButton(document);\n",
              "      </script>\n",
              "      <style>\n",
              "    .colab-df-container {\n",
              "      display:flex;\n",
              "      flex-wrap:wrap;\n",
              "      gap: 12px;\n",
              "    }\n",
              "\n",
              "    .colab-df-convert {\n",
              "      background-color: #E8F0FE;\n",
              "      border: none;\n",
              "      border-radius: 50%;\n",
              "      cursor: pointer;\n",
              "      display: none;\n",
              "      fill: #1967D2;\n",
              "      height: 32px;\n",
              "      padding: 0 0 0 0;\n",
              "      width: 32px;\n",
              "    }\n",
              "\n",
              "    .colab-df-convert:hover {\n",
              "      background-color: #E2EBFA;\n",
              "      box-shadow: 0px 1px 2px rgba(60, 64, 67, 0.3), 0px 1px 3px 1px rgba(60, 64, 67, 0.15);\n",
              "      fill: #174EA6;\n",
              "    }\n",
              "\n",
              "    [theme=dark] .colab-df-convert {\n",
              "      background-color: #3B4455;\n",
              "      fill: #D2E3FC;\n",
              "    }\n",
              "\n",
              "    [theme=dark] .colab-df-convert:hover {\n",
              "      background-color: #434B5C;\n",
              "      box-shadow: 0px 1px 3px 1px rgba(0, 0, 0, 0.15);\n",
              "      filter: drop-shadow(0px 1px 2px rgba(0, 0, 0, 0.3));\n",
              "      fill: #FFFFFF;\n",
              "    }\n",
              "  </style>\n",
              "\n",
              "      <script>\n",
              "        const buttonEl =\n",
              "          document.querySelector('#df-5ced45f6-ee9f-4854-ba25-43e5d621e42e button.colab-df-convert');\n",
              "        buttonEl.style.display =\n",
              "          google.colab.kernel.accessAllowed ? 'block' : 'none';\n",
              "\n",
              "        async function convertToInteractive(key) {\n",
              "          const element = document.querySelector('#df-5ced45f6-ee9f-4854-ba25-43e5d621e42e');\n",
              "          const dataTable =\n",
              "            await google.colab.kernel.invokeFunction('convertToInteractive',\n",
              "                                                     [key], {});\n",
              "          if (!dataTable) return;\n",
              "\n",
              "          const docLinkHtml = 'Like what you see? Visit the ' +\n",
              "            '<a target=\"_blank\" href=https://colab.research.google.com/notebooks/data_table.ipynb>data table notebook</a>'\n",
              "            + ' to learn more about interactive tables.';\n",
              "          element.innerHTML = '';\n",
              "          dataTable['output_type'] = 'display_data';\n",
              "          await google.colab.output.renderOutput(dataTable, element);\n",
              "          const docLink = document.createElement('div');\n",
              "          docLink.innerHTML = docLinkHtml;\n",
              "          element.appendChild(docLink);\n",
              "        }\n",
              "      </script>\n",
              "    </div>\n",
              "  </div>\n"
            ]
          },
          "metadata": {},
          "execution_count": 85
        }
      ]
    },
    {
      "cell_type": "code",
      "source": [
        "# df_re 전처리\n",
        "\n",
        "df_re = df_re_org.copy()\n",
        "\n",
        "print('='* 50 +'\\n')\n",
        "print('df_re\\n')\n",
        "print(f'전처리 전: {df_re.shape}')\n",
        "\n",
        "## 1) 필요한 컬럼만 남기기\n",
        "\n",
        "df_re = df_re_org[['review_id', 'order_id', 'review_score']]\n",
        "\n",
        "print(f'전처리 후: {df_re.shape}\\n')\n",
        "print('='* 50 +'\\n')\n",
        "\n",
        "print(df_re.info())\n"
      ],
      "metadata": {
        "colab": {
          "base_uri": "https://localhost:8080/"
        },
        "id": "Ntxwke6FUj9Q",
        "outputId": "2f3421b4-49f6-42b0-c35f-39943c343cf8"
      },
      "execution_count": 86,
      "outputs": [
        {
          "output_type": "stream",
          "name": "stdout",
          "text": [
            "==================================================\n",
            "\n",
            "df_re\n",
            "\n",
            "전처리 전: (99224, 7)\n",
            "전처리 후: (99224, 3)\n",
            "\n",
            "==================================================\n",
            "\n",
            "<class 'pandas.core.frame.DataFrame'>\n",
            "RangeIndex: 99224 entries, 0 to 99223\n",
            "Data columns (total 3 columns):\n",
            " #   Column        Non-Null Count  Dtype \n",
            "---  ------        --------------  ----- \n",
            " 0   review_id     99224 non-null  object\n",
            " 1   order_id      99224 non-null  object\n",
            " 2   review_score  99224 non-null  int64 \n",
            "dtypes: int64(1), object(2)\n",
            "memory usage: 2.3+ MB\n",
            "None\n"
          ]
        }
      ]
    },
    {
      "cell_type": "code",
      "source": [
        "# df_customer 전처리\n",
        "\n",
        "df_customer = df_customer_org.copy()\n",
        "\n",
        "print('='* 50 +'\\n')\n",
        "print('df_customer\\n')\n",
        "print(f'전처리 전: {df_customer.shape}')\n",
        "\n",
        "## 1) 필요한 컬럼만 남기기\n",
        "\n",
        "df_customer = df_customer_org[['customer_id', 'customer_unique_id', 'customer_state']]\n",
        "\n",
        "print(f'전처리 후: {df_customer.shape}\\n')\n",
        "print('='* 50 +'\\n')\n",
        "\n",
        "print(df_customer.info())\n"
      ],
      "metadata": {
        "colab": {
          "base_uri": "https://localhost:8080/"
        },
        "id": "dFixu8_PVDZC",
        "outputId": "e59a2b96-6297-4fc3-828f-5dbc7367a2ac"
      },
      "execution_count": 87,
      "outputs": [
        {
          "output_type": "stream",
          "name": "stdout",
          "text": [
            "==================================================\n",
            "\n",
            "df_customer\n",
            "\n",
            "전처리 전: (99441, 5)\n",
            "전처리 후: (99441, 3)\n",
            "\n",
            "==================================================\n",
            "\n",
            "<class 'pandas.core.frame.DataFrame'>\n",
            "RangeIndex: 99441 entries, 0 to 99440\n",
            "Data columns (total 3 columns):\n",
            " #   Column              Non-Null Count  Dtype \n",
            "---  ------              --------------  ----- \n",
            " 0   customer_id         99441 non-null  object\n",
            " 1   customer_unique_id  99441 non-null  object\n",
            " 2   customer_state      99441 non-null  object\n",
            "dtypes: object(3)\n",
            "memory usage: 2.3+ MB\n",
            "None\n"
          ]
        }
      ]
    },
    {
      "cell_type": "code",
      "source": [
        "# df_it 전처리\n",
        "\n",
        "df_it = df_it_org.copy()\n",
        "\n",
        "print('='* 50 +'\\n')\n",
        "print('df_it\\n')\n",
        "print(f'전처리 전: {df_it.shape}')\n",
        "\n",
        "## 1) 필요한 컬럼만 남기기\n",
        "\n",
        "df_it = df_it_org[['order_id', 'order_item_id', 'product_id', 'seller_id', 'price']]\n",
        "\n",
        "print(f'전처리 후: {df_it.shape}\\n')\n",
        "print('='* 50 +'\\n')\n",
        "\n",
        "print(df_it.info())\n"
      ],
      "metadata": {
        "colab": {
          "base_uri": "https://localhost:8080/"
        },
        "id": "E4RNKONPYSgw",
        "outputId": "7e103e84-ed50-4a4f-93f8-ccc633f7c3e0"
      },
      "execution_count": 88,
      "outputs": [
        {
          "output_type": "stream",
          "name": "stdout",
          "text": [
            "==================================================\n",
            "\n",
            "df_it\n",
            "\n",
            "전처리 전: (112650, 7)\n",
            "전처리 후: (112650, 5)\n",
            "\n",
            "==================================================\n",
            "\n",
            "<class 'pandas.core.frame.DataFrame'>\n",
            "RangeIndex: 112650 entries, 0 to 112649\n",
            "Data columns (total 5 columns):\n",
            " #   Column         Non-Null Count   Dtype  \n",
            "---  ------         --------------   -----  \n",
            " 0   order_id       112650 non-null  object \n",
            " 1   order_item_id  112650 non-null  int64  \n",
            " 2   product_id     112650 non-null  object \n",
            " 3   seller_id      112650 non-null  object \n",
            " 4   price          112650 non-null  float64\n",
            "dtypes: float64(1), int64(1), object(3)\n",
            "memory usage: 4.3+ MB\n",
            "None\n"
          ]
        }
      ]
    },
    {
      "cell_type": "markdown",
      "source": [
        "#_2. 시각화"
      ],
      "metadata": {
        "id": "CGxw8rZ_aJCq"
      }
    },
    {
      "cell_type": "markdown",
      "source": [
        "## 2.1. 어떤 유저가 2017년에 가장 많이 구매했는가? (VIP 리스트)\n",
        "\n",
        "> 목적: VIP 유저 리스트 추출하기\n",
        "\n",
        "* 리스트 출력:\n",
        "  * customer_unique_id | 2017년 총 상품 구매 금액 | 2017년 첫 상품 구매 | 2017년 마지막 구매 | 2017년 구매 빈도 수\n",
        "\n",
        "* 시각화:  \n",
        "  * 구매 금액별 유저 count? (히스토그램)\n",
        "  * 구매 금액 x 축 / 구매 빈도 수 y 축 : 유저 클러스터링"
      ],
      "metadata": {
        "id": "j4XL_B7gUi9b"
      }
    },
    {
      "cell_type": "markdown",
      "source": [
        "### 2.1.1 데이터 준비 (merge)\n",
        "- orders(order_id, order_purchase_year, month, day)  - customers(customer_unique_id) - order_items (price)"
      ],
      "metadata": {
        "id": "JQp0wY4plZ4h"
      }
    },
    {
      "cell_type": "code",
      "source": [
        "# df_ord.info()"
      ],
      "metadata": {
        "id": "Ae-HyNMOjLO6"
      },
      "execution_count": 89,
      "outputs": []
    },
    {
      "cell_type": "code",
      "source": [
        "# df_ord와 df_customer customer_id 기준 inner join\n",
        "\n",
        "print('='* 50 +'\\n')\n",
        "print(f'merge 전 - df_ord: {df_ord.shape}')\n",
        "print(f'merge 전 - df_customer: {df_customer.shape}\\n')\n",
        "\n",
        "print('='* 50 +'\\n')\n",
        "\n",
        "df_ord_customer = pd.merge(df_ord, df_customer, on ='customer_id', how ='inner') # 주문 내역이 있는 customer만 남음\n",
        "\n",
        "print(f'merge 후 - df_ord_customer: {df_ord_customer.shape}\\n')\n",
        "\n",
        "df_ord_customer.info()\n"
      ],
      "metadata": {
        "colab": {
          "base_uri": "https://localhost:8080/"
        },
        "id": "qegId5pxUjO4",
        "outputId": "fcd2382b-5cb6-4eb3-b9f9-008abf26c2f1"
      },
      "execution_count": 90,
      "outputs": [
        {
          "output_type": "stream",
          "name": "stdout",
          "text": [
            "==================================================\n",
            "\n",
            "merge 전 - df_ord: (43428, 7)\n",
            "merge 전 - df_customer: (99441, 3)\n",
            "\n",
            "==================================================\n",
            "\n",
            "merge 후 - df_ord_customer: (43428, 9)\n",
            "\n",
            "<class 'pandas.core.frame.DataFrame'>\n",
            "Int64Index: 43428 entries, 0 to 43427\n",
            "Data columns (total 9 columns):\n",
            " #   Column                    Non-Null Count  Dtype         \n",
            "---  ------                    --------------  -----         \n",
            " 0   order_id                  43428 non-null  object        \n",
            " 1   customer_id               43428 non-null  object        \n",
            " 2   order_status              43428 non-null  object        \n",
            " 3   order_purchase_timestamp  43428 non-null  datetime64[ns]\n",
            " 4   order_purchase_date       43428 non-null  object        \n",
            " 5   order_purchase_year       43428 non-null  int64         \n",
            " 6   order_purchase_month      43428 non-null  int64         \n",
            " 7   customer_unique_id        43428 non-null  object        \n",
            " 8   customer_state            43428 non-null  object        \n",
            "dtypes: datetime64[ns](1), int64(2), object(6)\n",
            "memory usage: 3.3+ MB\n"
          ]
        }
      ]
    },
    {
      "cell_type": "code",
      "source": [
        "# df_ord_customer와 df_it를 order_id 기준 inner join\n",
        "\n",
        "print('='* 50 +'\\n')\n",
        "print(f'merge 전 - df_ord_customer: {df_ord_customer.shape}')\n",
        "print(f'merge 전 - df_it: {df_it.shape}\\n')\n",
        "\n",
        "print('='* 50 +'\\n')\n",
        "\n",
        "df_ord_customer_it = pd.merge(df_ord_customer, df_it, on ='order_id', how ='inner')\n",
        "\n",
        "print(f'merge 후 - df_ord_customer_it: {df_ord_customer_it.shape}\\n')\n",
        "\n",
        "df_ord_customer_it.info()\n"
      ],
      "metadata": {
        "colab": {
          "base_uri": "https://localhost:8080/"
        },
        "id": "LBggGcLrkSwK",
        "outputId": "a509b75e-bf1b-4274-d8e7-40c1ff3bd3f4"
      },
      "execution_count": 91,
      "outputs": [
        {
          "output_type": "stream",
          "name": "stdout",
          "text": [
            "==================================================\n",
            "\n",
            "merge 전 - df_ord_customer: (43428, 9)\n",
            "merge 전 - df_it: (112650, 5)\n",
            "\n",
            "==================================================\n",
            "\n",
            "merge 후 - df_ord_customer_it: (49556, 13)\n",
            "\n",
            "<class 'pandas.core.frame.DataFrame'>\n",
            "Int64Index: 49556 entries, 0 to 49555\n",
            "Data columns (total 13 columns):\n",
            " #   Column                    Non-Null Count  Dtype         \n",
            "---  ------                    --------------  -----         \n",
            " 0   order_id                  49556 non-null  object        \n",
            " 1   customer_id               49556 non-null  object        \n",
            " 2   order_status              49556 non-null  object        \n",
            " 3   order_purchase_timestamp  49556 non-null  datetime64[ns]\n",
            " 4   order_purchase_date       49556 non-null  object        \n",
            " 5   order_purchase_year       49556 non-null  int64         \n",
            " 6   order_purchase_month      49556 non-null  int64         \n",
            " 7   customer_unique_id        49556 non-null  object        \n",
            " 8   customer_state            49556 non-null  object        \n",
            " 9   order_item_id             49556 non-null  int64         \n",
            " 10  product_id                49556 non-null  object        \n",
            " 11  seller_id                 49556 non-null  object        \n",
            " 12  price                     49556 non-null  float64       \n",
            "dtypes: datetime64[ns](1), float64(1), int64(3), object(8)\n",
            "memory usage: 5.3+ MB\n"
          ]
        }
      ]
    },
    {
      "cell_type": "code",
      "source": [
        "df_ord_customer_it[['order_id', 'order_item_id']].nunique()"
      ],
      "metadata": {
        "colab": {
          "base_uri": "https://localhost:8080/"
        },
        "id": "ZjKV_VN2nHJQ",
        "outputId": "5f951dd6-914a-436e-b749-d15854de0c29"
      },
      "execution_count": 92,
      "outputs": [
        {
          "output_type": "execute_result",
          "data": {
            "text/plain": [
              "order_id         43428\n",
              "order_item_id       21\n",
              "dtype: int64"
            ]
          },
          "metadata": {},
          "execution_count": 92
        }
      ]
    },
    {
      "cell_type": "code",
      "source": [
        "# 필요한 컬럼만 추출하기\n",
        "\n",
        "df_ord_customer_it = df_ord_customer_it[['order_id', 'customer_unique_id', 'order_item_id', 'price','order_purchase_date', 'order_purchase_year', 'customer_state']]\n",
        "df_ord_customer_it.info()"
      ],
      "metadata": {
        "colab": {
          "base_uri": "https://localhost:8080/"
        },
        "id": "Oweph8tVjukF",
        "outputId": "b22a120a-a681-41f3-afcc-f5d22bd8d116"
      },
      "execution_count": 93,
      "outputs": [
        {
          "output_type": "stream",
          "name": "stdout",
          "text": [
            "<class 'pandas.core.frame.DataFrame'>\n",
            "Int64Index: 49556 entries, 0 to 49555\n",
            "Data columns (total 7 columns):\n",
            " #   Column               Non-Null Count  Dtype  \n",
            "---  ------               --------------  -----  \n",
            " 0   order_id             49556 non-null  object \n",
            " 1   customer_unique_id   49556 non-null  object \n",
            " 2   order_item_id        49556 non-null  int64  \n",
            " 3   price                49556 non-null  float64\n",
            " 4   order_purchase_date  49556 non-null  object \n",
            " 5   order_purchase_year  49556 non-null  int64  \n",
            " 6   customer_state       49556 non-null  object \n",
            "dtypes: float64(1), int64(2), object(4)\n",
            "memory usage: 3.0+ MB\n"
          ]
        }
      ]
    },
    {
      "cell_type": "code",
      "source": [
        "df_ord_customer_it.head() # 이 상태에서 customer_unique_id 기준으로 집계 예정"
      ],
      "metadata": {
        "colab": {
          "base_uri": "https://localhost:8080/",
          "height": 270
        },
        "id": "YNAkXlQblTcr",
        "outputId": "8bf884ff-ce4f-433e-ec5d-17eb92cecc48"
      },
      "execution_count": 94,
      "outputs": [
        {
          "output_type": "execute_result",
          "data": {
            "text/plain": [
              "                           order_id                customer_unique_id  \\\n",
              "0  e481f51cbdc54678b7cc49136f2d6af7  7c396fd4830fd04220f754e42b4e5bff   \n",
              "1  949d5b44dbf5de918fe9c16f97b45f8a  7c142cf63193a1473d2e66489a9ae977   \n",
              "2  a4591c265e18cb1dcee52889e2d8acc3  80bb27c7c16e8f973207a5086ab329e2   \n",
              "3  6514b8ad8028c9f2cc2374ded245783f  932afa1e708222e5821dac9cd5db4cae   \n",
              "4  76c6e866289321a7c93b82b54852dc33  39382392765b6dc74812866ee5ee92a7   \n",
              "\n",
              "   order_item_id   price order_purchase_date  order_purchase_year  \\\n",
              "0              1   29.99          2017-10-02                 2017   \n",
              "1              1   45.00          2017-11-18                 2017   \n",
              "2              1  147.90          2017-07-09                 2017   \n",
              "3              1   59.99          2017-05-16                 2017   \n",
              "4              1   19.90          2017-01-23                 2017   \n",
              "\n",
              "  customer_state  \n",
              "0             SP  \n",
              "1             RN  \n",
              "2             PR  \n",
              "3             RJ  \n",
              "4             RS  "
            ],
            "text/html": [
              "\n",
              "\n",
              "  <div id=\"df-c5e38ff2-f87f-47c0-b5f3-125760317713\">\n",
              "    <div class=\"colab-df-container\">\n",
              "      <div>\n",
              "<style scoped>\n",
              "    .dataframe tbody tr th:only-of-type {\n",
              "        vertical-align: middle;\n",
              "    }\n",
              "\n",
              "    .dataframe tbody tr th {\n",
              "        vertical-align: top;\n",
              "    }\n",
              "\n",
              "    .dataframe thead th {\n",
              "        text-align: right;\n",
              "    }\n",
              "</style>\n",
              "<table border=\"1\" class=\"dataframe\">\n",
              "  <thead>\n",
              "    <tr style=\"text-align: right;\">\n",
              "      <th></th>\n",
              "      <th>order_id</th>\n",
              "      <th>customer_unique_id</th>\n",
              "      <th>order_item_id</th>\n",
              "      <th>price</th>\n",
              "      <th>order_purchase_date</th>\n",
              "      <th>order_purchase_year</th>\n",
              "      <th>customer_state</th>\n",
              "    </tr>\n",
              "  </thead>\n",
              "  <tbody>\n",
              "    <tr>\n",
              "      <th>0</th>\n",
              "      <td>e481f51cbdc54678b7cc49136f2d6af7</td>\n",
              "      <td>7c396fd4830fd04220f754e42b4e5bff</td>\n",
              "      <td>1</td>\n",
              "      <td>29.99</td>\n",
              "      <td>2017-10-02</td>\n",
              "      <td>2017</td>\n",
              "      <td>SP</td>\n",
              "    </tr>\n",
              "    <tr>\n",
              "      <th>1</th>\n",
              "      <td>949d5b44dbf5de918fe9c16f97b45f8a</td>\n",
              "      <td>7c142cf63193a1473d2e66489a9ae977</td>\n",
              "      <td>1</td>\n",
              "      <td>45.00</td>\n",
              "      <td>2017-11-18</td>\n",
              "      <td>2017</td>\n",
              "      <td>RN</td>\n",
              "    </tr>\n",
              "    <tr>\n",
              "      <th>2</th>\n",
              "      <td>a4591c265e18cb1dcee52889e2d8acc3</td>\n",
              "      <td>80bb27c7c16e8f973207a5086ab329e2</td>\n",
              "      <td>1</td>\n",
              "      <td>147.90</td>\n",
              "      <td>2017-07-09</td>\n",
              "      <td>2017</td>\n",
              "      <td>PR</td>\n",
              "    </tr>\n",
              "    <tr>\n",
              "      <th>3</th>\n",
              "      <td>6514b8ad8028c9f2cc2374ded245783f</td>\n",
              "      <td>932afa1e708222e5821dac9cd5db4cae</td>\n",
              "      <td>1</td>\n",
              "      <td>59.99</td>\n",
              "      <td>2017-05-16</td>\n",
              "      <td>2017</td>\n",
              "      <td>RJ</td>\n",
              "    </tr>\n",
              "    <tr>\n",
              "      <th>4</th>\n",
              "      <td>76c6e866289321a7c93b82b54852dc33</td>\n",
              "      <td>39382392765b6dc74812866ee5ee92a7</td>\n",
              "      <td>1</td>\n",
              "      <td>19.90</td>\n",
              "      <td>2017-01-23</td>\n",
              "      <td>2017</td>\n",
              "      <td>RS</td>\n",
              "    </tr>\n",
              "  </tbody>\n",
              "</table>\n",
              "</div>\n",
              "      <button class=\"colab-df-convert\" onclick=\"convertToInteractive('df-c5e38ff2-f87f-47c0-b5f3-125760317713')\"\n",
              "              title=\"Convert this dataframe to an interactive table.\"\n",
              "              style=\"display:none;\">\n",
              "\n",
              "  <svg xmlns=\"http://www.w3.org/2000/svg\" height=\"24px\"viewBox=\"0 0 24 24\"\n",
              "       width=\"24px\">\n",
              "    <path d=\"M0 0h24v24H0V0z\" fill=\"none\"/>\n",
              "    <path d=\"M18.56 5.44l.94 2.06.94-2.06 2.06-.94-2.06-.94-.94-2.06-.94 2.06-2.06.94zm-11 1L8.5 8.5l.94-2.06 2.06-.94-2.06-.94L8.5 2.5l-.94 2.06-2.06.94zm10 10l.94 2.06.94-2.06 2.06-.94-2.06-.94-.94-2.06-.94 2.06-2.06.94z\"/><path d=\"M17.41 7.96l-1.37-1.37c-.4-.4-.92-.59-1.43-.59-.52 0-1.04.2-1.43.59L10.3 9.45l-7.72 7.72c-.78.78-.78 2.05 0 2.83L4 21.41c.39.39.9.59 1.41.59.51 0 1.02-.2 1.41-.59l7.78-7.78 2.81-2.81c.8-.78.8-2.07 0-2.86zM5.41 20L4 18.59l7.72-7.72 1.47 1.35L5.41 20z\"/>\n",
              "  </svg>\n",
              "      </button>\n",
              "\n",
              "\n",
              "\n",
              "    <div id=\"df-b267b81e-b55b-47e2-94e5-4209d1f14c11\">\n",
              "      <button class=\"colab-df-quickchart\" onclick=\"quickchart('df-b267b81e-b55b-47e2-94e5-4209d1f14c11')\"\n",
              "              title=\"Suggest charts.\"\n",
              "              style=\"display:none;\">\n",
              "\n",
              "<svg xmlns=\"http://www.w3.org/2000/svg\" height=\"24px\"viewBox=\"0 0 24 24\"\n",
              "     width=\"24px\">\n",
              "    <g>\n",
              "        <path d=\"M19 3H5c-1.1 0-2 .9-2 2v14c0 1.1.9 2 2 2h14c1.1 0 2-.9 2-2V5c0-1.1-.9-2-2-2zM9 17H7v-7h2v7zm4 0h-2V7h2v10zm4 0h-2v-4h2v4z\"/>\n",
              "    </g>\n",
              "</svg>\n",
              "      </button>\n",
              "    </div>\n",
              "\n",
              "<style>\n",
              "  .colab-df-quickchart {\n",
              "    background-color: #E8F0FE;\n",
              "    border: none;\n",
              "    border-radius: 50%;\n",
              "    cursor: pointer;\n",
              "    display: none;\n",
              "    fill: #1967D2;\n",
              "    height: 32px;\n",
              "    padding: 0 0 0 0;\n",
              "    width: 32px;\n",
              "  }\n",
              "\n",
              "  .colab-df-quickchart:hover {\n",
              "    background-color: #E2EBFA;\n",
              "    box-shadow: 0px 1px 2px rgba(60, 64, 67, 0.3), 0px 1px 3px 1px rgba(60, 64, 67, 0.15);\n",
              "    fill: #174EA6;\n",
              "  }\n",
              "\n",
              "  [theme=dark] .colab-df-quickchart {\n",
              "    background-color: #3B4455;\n",
              "    fill: #D2E3FC;\n",
              "  }\n",
              "\n",
              "  [theme=dark] .colab-df-quickchart:hover {\n",
              "    background-color: #434B5C;\n",
              "    box-shadow: 0px 1px 3px 1px rgba(0, 0, 0, 0.15);\n",
              "    filter: drop-shadow(0px 1px 2px rgba(0, 0, 0, 0.3));\n",
              "    fill: #FFFFFF;\n",
              "  }\n",
              "</style>\n",
              "\n",
              "    <script>\n",
              "      async function quickchart(key) {\n",
              "        const containerElement = document.querySelector('#' + key);\n",
              "        const charts = await google.colab.kernel.invokeFunction(\n",
              "            'suggestCharts', [key], {});\n",
              "      }\n",
              "    </script>\n",
              "\n",
              "      <script>\n",
              "\n",
              "function displayQuickchartButton(domScope) {\n",
              "  let quickchartButtonEl =\n",
              "    domScope.querySelector('#df-b267b81e-b55b-47e2-94e5-4209d1f14c11 button.colab-df-quickchart');\n",
              "  quickchartButtonEl.style.display =\n",
              "    google.colab.kernel.accessAllowed ? 'block' : 'none';\n",
              "}\n",
              "\n",
              "        displayQuickchartButton(document);\n",
              "      </script>\n",
              "      <style>\n",
              "    .colab-df-container {\n",
              "      display:flex;\n",
              "      flex-wrap:wrap;\n",
              "      gap: 12px;\n",
              "    }\n",
              "\n",
              "    .colab-df-convert {\n",
              "      background-color: #E8F0FE;\n",
              "      border: none;\n",
              "      border-radius: 50%;\n",
              "      cursor: pointer;\n",
              "      display: none;\n",
              "      fill: #1967D2;\n",
              "      height: 32px;\n",
              "      padding: 0 0 0 0;\n",
              "      width: 32px;\n",
              "    }\n",
              "\n",
              "    .colab-df-convert:hover {\n",
              "      background-color: #E2EBFA;\n",
              "      box-shadow: 0px 1px 2px rgba(60, 64, 67, 0.3), 0px 1px 3px 1px rgba(60, 64, 67, 0.15);\n",
              "      fill: #174EA6;\n",
              "    }\n",
              "\n",
              "    [theme=dark] .colab-df-convert {\n",
              "      background-color: #3B4455;\n",
              "      fill: #D2E3FC;\n",
              "    }\n",
              "\n",
              "    [theme=dark] .colab-df-convert:hover {\n",
              "      background-color: #434B5C;\n",
              "      box-shadow: 0px 1px 3px 1px rgba(0, 0, 0, 0.15);\n",
              "      filter: drop-shadow(0px 1px 2px rgba(0, 0, 0, 0.3));\n",
              "      fill: #FFFFFF;\n",
              "    }\n",
              "  </style>\n",
              "\n",
              "      <script>\n",
              "        const buttonEl =\n",
              "          document.querySelector('#df-c5e38ff2-f87f-47c0-b5f3-125760317713 button.colab-df-convert');\n",
              "        buttonEl.style.display =\n",
              "          google.colab.kernel.accessAllowed ? 'block' : 'none';\n",
              "\n",
              "        async function convertToInteractive(key) {\n",
              "          const element = document.querySelector('#df-c5e38ff2-f87f-47c0-b5f3-125760317713');\n",
              "          const dataTable =\n",
              "            await google.colab.kernel.invokeFunction('convertToInteractive',\n",
              "                                                     [key], {});\n",
              "          if (!dataTable) return;\n",
              "\n",
              "          const docLinkHtml = 'Like what you see? Visit the ' +\n",
              "            '<a target=\"_blank\" href=https://colab.research.google.com/notebooks/data_table.ipynb>data table notebook</a>'\n",
              "            + ' to learn more about interactive tables.';\n",
              "          element.innerHTML = '';\n",
              "          dataTable['output_type'] = 'display_data';\n",
              "          await google.colab.output.renderOutput(dataTable, element);\n",
              "          const docLink = document.createElement('div');\n",
              "          docLink.innerHTML = docLinkHtml;\n",
              "          element.appendChild(docLink);\n",
              "        }\n",
              "      </script>\n",
              "    </div>\n",
              "  </div>\n"
            ]
          },
          "metadata": {},
          "execution_count": 94
        }
      ]
    },
    {
      "cell_type": "markdown",
      "source": [
        "### 2.2.2 집계 (df 가공)\n",
        "* 리스트 출력:\n",
        "  * customer_unique_id | 2018년 총 상품 구매 금액 | 2018년 첫 상품 구매 | 2018년 마지막 구매 | 2018년 구매 빈도 수"
      ],
      "metadata": {
        "id": "Kv2mVZ9ilYzN"
      }
    },
    {
      "cell_type": "code",
      "source": [
        "df_ord_customer_it.info()"
      ],
      "metadata": {
        "colab": {
          "base_uri": "https://localhost:8080/"
        },
        "id": "mSMDtMq2qLpx",
        "outputId": "aba8c809-230c-45c8-d6f8-8187c461dc8d"
      },
      "execution_count": 95,
      "outputs": [
        {
          "output_type": "stream",
          "name": "stdout",
          "text": [
            "<class 'pandas.core.frame.DataFrame'>\n",
            "Int64Index: 49556 entries, 0 to 49555\n",
            "Data columns (total 7 columns):\n",
            " #   Column               Non-Null Count  Dtype  \n",
            "---  ------               --------------  -----  \n",
            " 0   order_id             49556 non-null  object \n",
            " 1   customer_unique_id   49556 non-null  object \n",
            " 2   order_item_id        49556 non-null  int64  \n",
            " 3   price                49556 non-null  float64\n",
            " 4   order_purchase_date  49556 non-null  object \n",
            " 5   order_purchase_year  49556 non-null  int64  \n",
            " 6   customer_state       49556 non-null  object \n",
            "dtypes: float64(1), int64(2), object(4)\n",
            "memory usage: 3.0+ MB\n"
          ]
        }
      ]
    },
    {
      "cell_type": "code",
      "source": [
        "df_ord_customer_it[ df_ord_customer_it['customer_unique_id'] == '763c8b1c9c68a0229c42c9fc6f662b93' ]"
      ],
      "metadata": {
        "colab": {
          "base_uri": "https://localhost:8080/",
          "height": 93
        },
        "id": "bs_7EyK6iZim",
        "outputId": "326c6e16-9d7e-4d5b-9312-22573c71bdcf"
      },
      "execution_count": 96,
      "outputs": [
        {
          "output_type": "execute_result",
          "data": {
            "text/plain": [
              "Empty DataFrame\n",
              "Columns: [order_id, customer_unique_id, order_item_id, price, order_purchase_date, order_purchase_year, customer_state]\n",
              "Index: []"
            ],
            "text/html": [
              "\n",
              "\n",
              "  <div id=\"df-bb8e0f10-6040-4b7c-8a51-17e8b2b37175\">\n",
              "    <div class=\"colab-df-container\">\n",
              "      <div>\n",
              "<style scoped>\n",
              "    .dataframe tbody tr th:only-of-type {\n",
              "        vertical-align: middle;\n",
              "    }\n",
              "\n",
              "    .dataframe tbody tr th {\n",
              "        vertical-align: top;\n",
              "    }\n",
              "\n",
              "    .dataframe thead th {\n",
              "        text-align: right;\n",
              "    }\n",
              "</style>\n",
              "<table border=\"1\" class=\"dataframe\">\n",
              "  <thead>\n",
              "    <tr style=\"text-align: right;\">\n",
              "      <th></th>\n",
              "      <th>order_id</th>\n",
              "      <th>customer_unique_id</th>\n",
              "      <th>order_item_id</th>\n",
              "      <th>price</th>\n",
              "      <th>order_purchase_date</th>\n",
              "      <th>order_purchase_year</th>\n",
              "      <th>customer_state</th>\n",
              "    </tr>\n",
              "  </thead>\n",
              "  <tbody>\n",
              "  </tbody>\n",
              "</table>\n",
              "</div>\n",
              "      <button class=\"colab-df-convert\" onclick=\"convertToInteractive('df-bb8e0f10-6040-4b7c-8a51-17e8b2b37175')\"\n",
              "              title=\"Convert this dataframe to an interactive table.\"\n",
              "              style=\"display:none;\">\n",
              "\n",
              "  <svg xmlns=\"http://www.w3.org/2000/svg\" height=\"24px\"viewBox=\"0 0 24 24\"\n",
              "       width=\"24px\">\n",
              "    <path d=\"M0 0h24v24H0V0z\" fill=\"none\"/>\n",
              "    <path d=\"M18.56 5.44l.94 2.06.94-2.06 2.06-.94-2.06-.94-.94-2.06-.94 2.06-2.06.94zm-11 1L8.5 8.5l.94-2.06 2.06-.94-2.06-.94L8.5 2.5l-.94 2.06-2.06.94zm10 10l.94 2.06.94-2.06 2.06-.94-2.06-.94-.94-2.06-.94 2.06-2.06.94z\"/><path d=\"M17.41 7.96l-1.37-1.37c-.4-.4-.92-.59-1.43-.59-.52 0-1.04.2-1.43.59L10.3 9.45l-7.72 7.72c-.78.78-.78 2.05 0 2.83L4 21.41c.39.39.9.59 1.41.59.51 0 1.02-.2 1.41-.59l7.78-7.78 2.81-2.81c.8-.78.8-2.07 0-2.86zM5.41 20L4 18.59l7.72-7.72 1.47 1.35L5.41 20z\"/>\n",
              "  </svg>\n",
              "      </button>\n",
              "\n",
              "\n",
              "\n",
              "    <div id=\"df-6d0f5dc9-1f6e-4004-ab78-92e612918cdd\">\n",
              "      <button class=\"colab-df-quickchart\" onclick=\"quickchart('df-6d0f5dc9-1f6e-4004-ab78-92e612918cdd')\"\n",
              "              title=\"Suggest charts.\"\n",
              "              style=\"display:none;\">\n",
              "\n",
              "<svg xmlns=\"http://www.w3.org/2000/svg\" height=\"24px\"viewBox=\"0 0 24 24\"\n",
              "     width=\"24px\">\n",
              "    <g>\n",
              "        <path d=\"M19 3H5c-1.1 0-2 .9-2 2v14c0 1.1.9 2 2 2h14c1.1 0 2-.9 2-2V5c0-1.1-.9-2-2-2zM9 17H7v-7h2v7zm4 0h-2V7h2v10zm4 0h-2v-4h2v4z\"/>\n",
              "    </g>\n",
              "</svg>\n",
              "      </button>\n",
              "    </div>\n",
              "\n",
              "<style>\n",
              "  .colab-df-quickchart {\n",
              "    background-color: #E8F0FE;\n",
              "    border: none;\n",
              "    border-radius: 50%;\n",
              "    cursor: pointer;\n",
              "    display: none;\n",
              "    fill: #1967D2;\n",
              "    height: 32px;\n",
              "    padding: 0 0 0 0;\n",
              "    width: 32px;\n",
              "  }\n",
              "\n",
              "  .colab-df-quickchart:hover {\n",
              "    background-color: #E2EBFA;\n",
              "    box-shadow: 0px 1px 2px rgba(60, 64, 67, 0.3), 0px 1px 3px 1px rgba(60, 64, 67, 0.15);\n",
              "    fill: #174EA6;\n",
              "  }\n",
              "\n",
              "  [theme=dark] .colab-df-quickchart {\n",
              "    background-color: #3B4455;\n",
              "    fill: #D2E3FC;\n",
              "  }\n",
              "\n",
              "  [theme=dark] .colab-df-quickchart:hover {\n",
              "    background-color: #434B5C;\n",
              "    box-shadow: 0px 1px 3px 1px rgba(0, 0, 0, 0.15);\n",
              "    filter: drop-shadow(0px 1px 2px rgba(0, 0, 0, 0.3));\n",
              "    fill: #FFFFFF;\n",
              "  }\n",
              "</style>\n",
              "\n",
              "    <script>\n",
              "      async function quickchart(key) {\n",
              "        const containerElement = document.querySelector('#' + key);\n",
              "        const charts = await google.colab.kernel.invokeFunction(\n",
              "            'suggestCharts', [key], {});\n",
              "      }\n",
              "    </script>\n",
              "\n",
              "      <script>\n",
              "\n",
              "function displayQuickchartButton(domScope) {\n",
              "  let quickchartButtonEl =\n",
              "    domScope.querySelector('#df-6d0f5dc9-1f6e-4004-ab78-92e612918cdd button.colab-df-quickchart');\n",
              "  quickchartButtonEl.style.display =\n",
              "    google.colab.kernel.accessAllowed ? 'block' : 'none';\n",
              "}\n",
              "\n",
              "        displayQuickchartButton(document);\n",
              "      </script>\n",
              "      <style>\n",
              "    .colab-df-container {\n",
              "      display:flex;\n",
              "      flex-wrap:wrap;\n",
              "      gap: 12px;\n",
              "    }\n",
              "\n",
              "    .colab-df-convert {\n",
              "      background-color: #E8F0FE;\n",
              "      border: none;\n",
              "      border-radius: 50%;\n",
              "      cursor: pointer;\n",
              "      display: none;\n",
              "      fill: #1967D2;\n",
              "      height: 32px;\n",
              "      padding: 0 0 0 0;\n",
              "      width: 32px;\n",
              "    }\n",
              "\n",
              "    .colab-df-convert:hover {\n",
              "      background-color: #E2EBFA;\n",
              "      box-shadow: 0px 1px 2px rgba(60, 64, 67, 0.3), 0px 1px 3px 1px rgba(60, 64, 67, 0.15);\n",
              "      fill: #174EA6;\n",
              "    }\n",
              "\n",
              "    [theme=dark] .colab-df-convert {\n",
              "      background-color: #3B4455;\n",
              "      fill: #D2E3FC;\n",
              "    }\n",
              "\n",
              "    [theme=dark] .colab-df-convert:hover {\n",
              "      background-color: #434B5C;\n",
              "      box-shadow: 0px 1px 3px 1px rgba(0, 0, 0, 0.15);\n",
              "      filter: drop-shadow(0px 1px 2px rgba(0, 0, 0, 0.3));\n",
              "      fill: #FFFFFF;\n",
              "    }\n",
              "  </style>\n",
              "\n",
              "      <script>\n",
              "        const buttonEl =\n",
              "          document.querySelector('#df-bb8e0f10-6040-4b7c-8a51-17e8b2b37175 button.colab-df-convert');\n",
              "        buttonEl.style.display =\n",
              "          google.colab.kernel.accessAllowed ? 'block' : 'none';\n",
              "\n",
              "        async function convertToInteractive(key) {\n",
              "          const element = document.querySelector('#df-bb8e0f10-6040-4b7c-8a51-17e8b2b37175');\n",
              "          const dataTable =\n",
              "            await google.colab.kernel.invokeFunction('convertToInteractive',\n",
              "                                                     [key], {});\n",
              "          if (!dataTable) return;\n",
              "\n",
              "          const docLinkHtml = 'Like what you see? Visit the ' +\n",
              "            '<a target=\"_blank\" href=https://colab.research.google.com/notebooks/data_table.ipynb>data table notebook</a>'\n",
              "            + ' to learn more about interactive tables.';\n",
              "          element.innerHTML = '';\n",
              "          dataTable['output_type'] = 'display_data';\n",
              "          await google.colab.output.renderOutput(dataTable, element);\n",
              "          const docLink = document.createElement('div');\n",
              "          docLink.innerHTML = docLinkHtml;\n",
              "          element.appendChild(docLink);\n",
              "        }\n",
              "      </script>\n",
              "    </div>\n",
              "  </div>\n"
            ]
          },
          "metadata": {},
          "execution_count": 96
        }
      ]
    },
    {
      "cell_type": "code",
      "source": [
        "# 2017년 VIP 고객\n",
        "%%time\n",
        "df_vip_2017 = df_ord_customer_it[ df_ord_customer_it['order_purchase_year']  == 2017 ]\n",
        "df_vip_2017 = df_vip_2017.groupby(['customer_unique_id']).agg(order_purchase_sum_2017 = ('price', 'sum'),\n",
        "                                                order_purchase_date_min = ('order_purchase_date', 'min'),\n",
        "                                                order_purchase_date_max = ('order_purchase_date', 'max'),\n",
        "                                                order_frequency = ('order_id','nunique'),\n",
        "                                                customer_state = ('customer_state', 'max'))\\\n",
        "                                                .reset_index().sort_values(by='order_purchase_sum_2017', ascending = False)\n",
        "\n",
        "df_vip_2017.head(20)"
      ],
      "metadata": {
        "id": "B2ZFHg0olVQl",
        "colab": {
          "base_uri": "https://localhost:8080/",
          "height": 777
        },
        "outputId": "b2164196-0da0-4b74-c70e-2429a8d34292"
      },
      "execution_count": 97,
      "outputs": [
        {
          "output_type": "stream",
          "name": "stdout",
          "text": [
            "CPU times: user 12.6 s, sys: 30.5 ms, total: 12.6 s\n",
            "Wall time: 12.8 s\n"
          ]
        },
        {
          "output_type": "execute_result",
          "data": {
            "text/plain": [
              "                     customer_unique_id  order_purchase_sum_2017  \\\n",
              "1690   0a0a92112bd4c708ca5fde585afaa872                 13440.00   \n",
              "35983  da122df9eeddfedc1dc1f5349a1a690c                  7388.00   \n",
              "36349  dc4802a71eae9be1dd28f5d788ceb526                  6735.00   \n",
              "42003  ff4159b92c40ebe40454e3e6a7c35ed6                  6499.00   \n",
              "10550  4007669dec559734d6f53e029e360987                  5934.60   \n",
              "39335  eebb5dda148d3893cdaf5b5ca3040ccb                  4690.00   \n",
              "181    011875f0176909c5cf0b14a9138bb691                  3999.90   \n",
              "39211  edf81e1f3070b9dac83ec83dacdbb9bc                  3999.00   \n",
              "15632  5e713be0853d8986528d7869a0811d2b                  3980.00   \n",
              "15387  5d09b0d82126457e2a8ebfb9c9a1ffc4                  3699.99   \n",
              "24174  931eabdf0636b8fd60369a8d759917d6                  3597.00   \n",
              "576    03796b63235e0e0a299084988c662c7e                  3549.00   \n",
              "14874  59d66d72939bc9497e19d89c61a96d5f                  3459.00   \n",
              "20210  7a96eb0a685f5c19b7dad29fc802aa64                  3124.00   \n",
              "32648  c6111f70f40b3420e387493c627c27fa                  2999.99   \n",
              "22592  895617ab63a9ad8881d9470f7427cd25                  2999.99   \n",
              "38655  ea984b06b18cc6905bc2f9b0a3d1c986                  2999.89   \n",
              "7063   2ae8173a688e326821403a5b7a6858c2                  2999.89   \n",
              "41967  ff0ae98646e7bbb41cf0f0d3991fef98                  2999.89   \n",
              "16128  6172bd5b7f52ade8c6c4548b448ff54f                  2999.89   \n",
              "\n",
              "      order_purchase_date_min order_purchase_date_max  order_frequency  \\\n",
              "1690               2017-09-29              2017-09-29                1   \n",
              "35983              2017-04-01              2017-04-01                2   \n",
              "36349              2017-02-12              2017-02-12                1   \n",
              "42003              2017-05-24              2017-05-24                1   \n",
              "10550              2017-11-24              2017-11-24                1   \n",
              "39335              2017-04-18              2017-04-18                1   \n",
              "181                2017-03-18              2017-03-18                1   \n",
              "39211              2017-04-18              2017-04-18                1   \n",
              "15632              2017-02-04              2017-02-04                1   \n",
              "15387              2017-02-10              2017-02-10                1   \n",
              "24174              2017-05-10              2017-05-10                1   \n",
              "576                2017-02-21              2017-02-21                1   \n",
              "14874              2017-03-02              2017-08-10                2   \n",
              "20210              2017-12-17              2017-12-17                1   \n",
              "32648              2017-10-10              2017-10-10                1   \n",
              "22592              2017-10-05              2017-10-05                1   \n",
              "38655              2017-03-27              2017-03-27                1   \n",
              "7063               2017-03-20              2017-03-20                1   \n",
              "41967              2017-06-05              2017-06-05                1   \n",
              "16128              2017-07-06              2017-07-06                1   \n",
              "\n",
              "      customer_state  \n",
              "1690              RJ  \n",
              "35983             RJ  \n",
              "36349             MS  \n",
              "42003             SP  \n",
              "10550             MG  \n",
              "39335             SP  \n",
              "181               SP  \n",
              "39211             DF  \n",
              "15632             PA  \n",
              "15387             DF  \n",
              "24174             SC  \n",
              "576               DF  \n",
              "14874             SP  \n",
              "20210             RS  \n",
              "32648             RJ  \n",
              "22592             PR  \n",
              "38655             SP  \n",
              "7063              MG  \n",
              "41967             BA  \n",
              "16128             RJ  "
            ],
            "text/html": [
              "\n",
              "\n",
              "  <div id=\"df-1545ef6b-5eb9-4d16-9dbf-61eb98c35207\">\n",
              "    <div class=\"colab-df-container\">\n",
              "      <div>\n",
              "<style scoped>\n",
              "    .dataframe tbody tr th:only-of-type {\n",
              "        vertical-align: middle;\n",
              "    }\n",
              "\n",
              "    .dataframe tbody tr th {\n",
              "        vertical-align: top;\n",
              "    }\n",
              "\n",
              "    .dataframe thead th {\n",
              "        text-align: right;\n",
              "    }\n",
              "</style>\n",
              "<table border=\"1\" class=\"dataframe\">\n",
              "  <thead>\n",
              "    <tr style=\"text-align: right;\">\n",
              "      <th></th>\n",
              "      <th>customer_unique_id</th>\n",
              "      <th>order_purchase_sum_2017</th>\n",
              "      <th>order_purchase_date_min</th>\n",
              "      <th>order_purchase_date_max</th>\n",
              "      <th>order_frequency</th>\n",
              "      <th>customer_state</th>\n",
              "    </tr>\n",
              "  </thead>\n",
              "  <tbody>\n",
              "    <tr>\n",
              "      <th>1690</th>\n",
              "      <td>0a0a92112bd4c708ca5fde585afaa872</td>\n",
              "      <td>13440.00</td>\n",
              "      <td>2017-09-29</td>\n",
              "      <td>2017-09-29</td>\n",
              "      <td>1</td>\n",
              "      <td>RJ</td>\n",
              "    </tr>\n",
              "    <tr>\n",
              "      <th>35983</th>\n",
              "      <td>da122df9eeddfedc1dc1f5349a1a690c</td>\n",
              "      <td>7388.00</td>\n",
              "      <td>2017-04-01</td>\n",
              "      <td>2017-04-01</td>\n",
              "      <td>2</td>\n",
              "      <td>RJ</td>\n",
              "    </tr>\n",
              "    <tr>\n",
              "      <th>36349</th>\n",
              "      <td>dc4802a71eae9be1dd28f5d788ceb526</td>\n",
              "      <td>6735.00</td>\n",
              "      <td>2017-02-12</td>\n",
              "      <td>2017-02-12</td>\n",
              "      <td>1</td>\n",
              "      <td>MS</td>\n",
              "    </tr>\n",
              "    <tr>\n",
              "      <th>42003</th>\n",
              "      <td>ff4159b92c40ebe40454e3e6a7c35ed6</td>\n",
              "      <td>6499.00</td>\n",
              "      <td>2017-05-24</td>\n",
              "      <td>2017-05-24</td>\n",
              "      <td>1</td>\n",
              "      <td>SP</td>\n",
              "    </tr>\n",
              "    <tr>\n",
              "      <th>10550</th>\n",
              "      <td>4007669dec559734d6f53e029e360987</td>\n",
              "      <td>5934.60</td>\n",
              "      <td>2017-11-24</td>\n",
              "      <td>2017-11-24</td>\n",
              "      <td>1</td>\n",
              "      <td>MG</td>\n",
              "    </tr>\n",
              "    <tr>\n",
              "      <th>39335</th>\n",
              "      <td>eebb5dda148d3893cdaf5b5ca3040ccb</td>\n",
              "      <td>4690.00</td>\n",
              "      <td>2017-04-18</td>\n",
              "      <td>2017-04-18</td>\n",
              "      <td>1</td>\n",
              "      <td>SP</td>\n",
              "    </tr>\n",
              "    <tr>\n",
              "      <th>181</th>\n",
              "      <td>011875f0176909c5cf0b14a9138bb691</td>\n",
              "      <td>3999.90</td>\n",
              "      <td>2017-03-18</td>\n",
              "      <td>2017-03-18</td>\n",
              "      <td>1</td>\n",
              "      <td>SP</td>\n",
              "    </tr>\n",
              "    <tr>\n",
              "      <th>39211</th>\n",
              "      <td>edf81e1f3070b9dac83ec83dacdbb9bc</td>\n",
              "      <td>3999.00</td>\n",
              "      <td>2017-04-18</td>\n",
              "      <td>2017-04-18</td>\n",
              "      <td>1</td>\n",
              "      <td>DF</td>\n",
              "    </tr>\n",
              "    <tr>\n",
              "      <th>15632</th>\n",
              "      <td>5e713be0853d8986528d7869a0811d2b</td>\n",
              "      <td>3980.00</td>\n",
              "      <td>2017-02-04</td>\n",
              "      <td>2017-02-04</td>\n",
              "      <td>1</td>\n",
              "      <td>PA</td>\n",
              "    </tr>\n",
              "    <tr>\n",
              "      <th>15387</th>\n",
              "      <td>5d09b0d82126457e2a8ebfb9c9a1ffc4</td>\n",
              "      <td>3699.99</td>\n",
              "      <td>2017-02-10</td>\n",
              "      <td>2017-02-10</td>\n",
              "      <td>1</td>\n",
              "      <td>DF</td>\n",
              "    </tr>\n",
              "    <tr>\n",
              "      <th>24174</th>\n",
              "      <td>931eabdf0636b8fd60369a8d759917d6</td>\n",
              "      <td>3597.00</td>\n",
              "      <td>2017-05-10</td>\n",
              "      <td>2017-05-10</td>\n",
              "      <td>1</td>\n",
              "      <td>SC</td>\n",
              "    </tr>\n",
              "    <tr>\n",
              "      <th>576</th>\n",
              "      <td>03796b63235e0e0a299084988c662c7e</td>\n",
              "      <td>3549.00</td>\n",
              "      <td>2017-02-21</td>\n",
              "      <td>2017-02-21</td>\n",
              "      <td>1</td>\n",
              "      <td>DF</td>\n",
              "    </tr>\n",
              "    <tr>\n",
              "      <th>14874</th>\n",
              "      <td>59d66d72939bc9497e19d89c61a96d5f</td>\n",
              "      <td>3459.00</td>\n",
              "      <td>2017-03-02</td>\n",
              "      <td>2017-08-10</td>\n",
              "      <td>2</td>\n",
              "      <td>SP</td>\n",
              "    </tr>\n",
              "    <tr>\n",
              "      <th>20210</th>\n",
              "      <td>7a96eb0a685f5c19b7dad29fc802aa64</td>\n",
              "      <td>3124.00</td>\n",
              "      <td>2017-12-17</td>\n",
              "      <td>2017-12-17</td>\n",
              "      <td>1</td>\n",
              "      <td>RS</td>\n",
              "    </tr>\n",
              "    <tr>\n",
              "      <th>32648</th>\n",
              "      <td>c6111f70f40b3420e387493c627c27fa</td>\n",
              "      <td>2999.99</td>\n",
              "      <td>2017-10-10</td>\n",
              "      <td>2017-10-10</td>\n",
              "      <td>1</td>\n",
              "      <td>RJ</td>\n",
              "    </tr>\n",
              "    <tr>\n",
              "      <th>22592</th>\n",
              "      <td>895617ab63a9ad8881d9470f7427cd25</td>\n",
              "      <td>2999.99</td>\n",
              "      <td>2017-10-05</td>\n",
              "      <td>2017-10-05</td>\n",
              "      <td>1</td>\n",
              "      <td>PR</td>\n",
              "    </tr>\n",
              "    <tr>\n",
              "      <th>38655</th>\n",
              "      <td>ea984b06b18cc6905bc2f9b0a3d1c986</td>\n",
              "      <td>2999.89</td>\n",
              "      <td>2017-03-27</td>\n",
              "      <td>2017-03-27</td>\n",
              "      <td>1</td>\n",
              "      <td>SP</td>\n",
              "    </tr>\n",
              "    <tr>\n",
              "      <th>7063</th>\n",
              "      <td>2ae8173a688e326821403a5b7a6858c2</td>\n",
              "      <td>2999.89</td>\n",
              "      <td>2017-03-20</td>\n",
              "      <td>2017-03-20</td>\n",
              "      <td>1</td>\n",
              "      <td>MG</td>\n",
              "    </tr>\n",
              "    <tr>\n",
              "      <th>41967</th>\n",
              "      <td>ff0ae98646e7bbb41cf0f0d3991fef98</td>\n",
              "      <td>2999.89</td>\n",
              "      <td>2017-06-05</td>\n",
              "      <td>2017-06-05</td>\n",
              "      <td>1</td>\n",
              "      <td>BA</td>\n",
              "    </tr>\n",
              "    <tr>\n",
              "      <th>16128</th>\n",
              "      <td>6172bd5b7f52ade8c6c4548b448ff54f</td>\n",
              "      <td>2999.89</td>\n",
              "      <td>2017-07-06</td>\n",
              "      <td>2017-07-06</td>\n",
              "      <td>1</td>\n",
              "      <td>RJ</td>\n",
              "    </tr>\n",
              "  </tbody>\n",
              "</table>\n",
              "</div>\n",
              "      <button class=\"colab-df-convert\" onclick=\"convertToInteractive('df-1545ef6b-5eb9-4d16-9dbf-61eb98c35207')\"\n",
              "              title=\"Convert this dataframe to an interactive table.\"\n",
              "              style=\"display:none;\">\n",
              "\n",
              "  <svg xmlns=\"http://www.w3.org/2000/svg\" height=\"24px\"viewBox=\"0 0 24 24\"\n",
              "       width=\"24px\">\n",
              "    <path d=\"M0 0h24v24H0V0z\" fill=\"none\"/>\n",
              "    <path d=\"M18.56 5.44l.94 2.06.94-2.06 2.06-.94-2.06-.94-.94-2.06-.94 2.06-2.06.94zm-11 1L8.5 8.5l.94-2.06 2.06-.94-2.06-.94L8.5 2.5l-.94 2.06-2.06.94zm10 10l.94 2.06.94-2.06 2.06-.94-2.06-.94-.94-2.06-.94 2.06-2.06.94z\"/><path d=\"M17.41 7.96l-1.37-1.37c-.4-.4-.92-.59-1.43-.59-.52 0-1.04.2-1.43.59L10.3 9.45l-7.72 7.72c-.78.78-.78 2.05 0 2.83L4 21.41c.39.39.9.59 1.41.59.51 0 1.02-.2 1.41-.59l7.78-7.78 2.81-2.81c.8-.78.8-2.07 0-2.86zM5.41 20L4 18.59l7.72-7.72 1.47 1.35L5.41 20z\"/>\n",
              "  </svg>\n",
              "      </button>\n",
              "\n",
              "\n",
              "\n",
              "    <div id=\"df-006b24bb-77f0-49c7-bbb8-b88f853cd0dd\">\n",
              "      <button class=\"colab-df-quickchart\" onclick=\"quickchart('df-006b24bb-77f0-49c7-bbb8-b88f853cd0dd')\"\n",
              "              title=\"Suggest charts.\"\n",
              "              style=\"display:none;\">\n",
              "\n",
              "<svg xmlns=\"http://www.w3.org/2000/svg\" height=\"24px\"viewBox=\"0 0 24 24\"\n",
              "     width=\"24px\">\n",
              "    <g>\n",
              "        <path d=\"M19 3H5c-1.1 0-2 .9-2 2v14c0 1.1.9 2 2 2h14c1.1 0 2-.9 2-2V5c0-1.1-.9-2-2-2zM9 17H7v-7h2v7zm4 0h-2V7h2v10zm4 0h-2v-4h2v4z\"/>\n",
              "    </g>\n",
              "</svg>\n",
              "      </button>\n",
              "    </div>\n",
              "\n",
              "<style>\n",
              "  .colab-df-quickchart {\n",
              "    background-color: #E8F0FE;\n",
              "    border: none;\n",
              "    border-radius: 50%;\n",
              "    cursor: pointer;\n",
              "    display: none;\n",
              "    fill: #1967D2;\n",
              "    height: 32px;\n",
              "    padding: 0 0 0 0;\n",
              "    width: 32px;\n",
              "  }\n",
              "\n",
              "  .colab-df-quickchart:hover {\n",
              "    background-color: #E2EBFA;\n",
              "    box-shadow: 0px 1px 2px rgba(60, 64, 67, 0.3), 0px 1px 3px 1px rgba(60, 64, 67, 0.15);\n",
              "    fill: #174EA6;\n",
              "  }\n",
              "\n",
              "  [theme=dark] .colab-df-quickchart {\n",
              "    background-color: #3B4455;\n",
              "    fill: #D2E3FC;\n",
              "  }\n",
              "\n",
              "  [theme=dark] .colab-df-quickchart:hover {\n",
              "    background-color: #434B5C;\n",
              "    box-shadow: 0px 1px 3px 1px rgba(0, 0, 0, 0.15);\n",
              "    filter: drop-shadow(0px 1px 2px rgba(0, 0, 0, 0.3));\n",
              "    fill: #FFFFFF;\n",
              "  }\n",
              "</style>\n",
              "\n",
              "    <script>\n",
              "      async function quickchart(key) {\n",
              "        const containerElement = document.querySelector('#' + key);\n",
              "        const charts = await google.colab.kernel.invokeFunction(\n",
              "            'suggestCharts', [key], {});\n",
              "      }\n",
              "    </script>\n",
              "\n",
              "      <script>\n",
              "\n",
              "function displayQuickchartButton(domScope) {\n",
              "  let quickchartButtonEl =\n",
              "    domScope.querySelector('#df-006b24bb-77f0-49c7-bbb8-b88f853cd0dd button.colab-df-quickchart');\n",
              "  quickchartButtonEl.style.display =\n",
              "    google.colab.kernel.accessAllowed ? 'block' : 'none';\n",
              "}\n",
              "\n",
              "        displayQuickchartButton(document);\n",
              "      </script>\n",
              "      <style>\n",
              "    .colab-df-container {\n",
              "      display:flex;\n",
              "      flex-wrap:wrap;\n",
              "      gap: 12px;\n",
              "    }\n",
              "\n",
              "    .colab-df-convert {\n",
              "      background-color: #E8F0FE;\n",
              "      border: none;\n",
              "      border-radius: 50%;\n",
              "      cursor: pointer;\n",
              "      display: none;\n",
              "      fill: #1967D2;\n",
              "      height: 32px;\n",
              "      padding: 0 0 0 0;\n",
              "      width: 32px;\n",
              "    }\n",
              "\n",
              "    .colab-df-convert:hover {\n",
              "      background-color: #E2EBFA;\n",
              "      box-shadow: 0px 1px 2px rgba(60, 64, 67, 0.3), 0px 1px 3px 1px rgba(60, 64, 67, 0.15);\n",
              "      fill: #174EA6;\n",
              "    }\n",
              "\n",
              "    [theme=dark] .colab-df-convert {\n",
              "      background-color: #3B4455;\n",
              "      fill: #D2E3FC;\n",
              "    }\n",
              "\n",
              "    [theme=dark] .colab-df-convert:hover {\n",
              "      background-color: #434B5C;\n",
              "      box-shadow: 0px 1px 3px 1px rgba(0, 0, 0, 0.15);\n",
              "      filter: drop-shadow(0px 1px 2px rgba(0, 0, 0, 0.3));\n",
              "      fill: #FFFFFF;\n",
              "    }\n",
              "  </style>\n",
              "\n",
              "      <script>\n",
              "        const buttonEl =\n",
              "          document.querySelector('#df-1545ef6b-5eb9-4d16-9dbf-61eb98c35207 button.colab-df-convert');\n",
              "        buttonEl.style.display =\n",
              "          google.colab.kernel.accessAllowed ? 'block' : 'none';\n",
              "\n",
              "        async function convertToInteractive(key) {\n",
              "          const element = document.querySelector('#df-1545ef6b-5eb9-4d16-9dbf-61eb98c35207');\n",
              "          const dataTable =\n",
              "            await google.colab.kernel.invokeFunction('convertToInteractive',\n",
              "                                                     [key], {});\n",
              "          if (!dataTable) return;\n",
              "\n",
              "          const docLinkHtml = 'Like what you see? Visit the ' +\n",
              "            '<a target=\"_blank\" href=https://colab.research.google.com/notebooks/data_table.ipynb>data table notebook</a>'\n",
              "            + ' to learn more about interactive tables.';\n",
              "          element.innerHTML = '';\n",
              "          dataTable['output_type'] = 'display_data';\n",
              "          await google.colab.output.renderOutput(dataTable, element);\n",
              "          const docLink = document.createElement('div');\n",
              "          docLink.innerHTML = docLinkHtml;\n",
              "          element.appendChild(docLink);\n",
              "        }\n",
              "      </script>\n",
              "    </div>\n",
              "  </div>\n"
            ]
          },
          "metadata": {},
          "execution_count": 97
        }
      ]
    },
    {
      "cell_type": "code",
      "source": [
        "# 2017년 고객 중 order_frequency > 1\n",
        "\n",
        "df_vip_2017[df_vip_2017['order_frequency'] > 1].sort_values(by= 'order_purchase_sum_2017', ascending = False).head(10)"
      ],
      "metadata": {
        "colab": {
          "base_uri": "https://localhost:8080/",
          "height": 427
        },
        "id": "eV_wLn9KjMSm",
        "outputId": "ffaf384a-a285-4805-c136-c3d5da07a937"
      },
      "execution_count": 98,
      "outputs": [
        {
          "output_type": "execute_result",
          "data": {
            "text/plain": [
              "                     customer_unique_id  order_purchase_sum_2017  \\\n",
              "35983  da122df9eeddfedc1dc1f5349a1a690c                  7388.00   \n",
              "14874  59d66d72939bc9497e19d89c61a96d5f                  3459.00   \n",
              "35564  d77aa95864ae5b42160937615628723a                  2400.00   \n",
              "22200  86df00dc5fd68f4dd5d5945ca19f3ed6                  2200.00   \n",
              "19030  73601b1eec55943e90ce8d61253d5c09                  2009.98   \n",
              "20052  798c34ffa9047399853eab8ca7c0b9a0                  1770.30   \n",
              "34097  cef29e793e232d30250331804cdb7000                  1669.12   \n",
              "26467  a1044dd75b74fbc485b040575a14acf0                  1663.00   \n",
              "31868  c169c9937db997a267f749cdd64c161f                  1511.20   \n",
              "35992  da1e7179b9c5a1494d78528cbcf05aa0                  1399.90   \n",
              "\n",
              "      order_purchase_date_min order_purchase_date_max  order_frequency  \\\n",
              "35983              2017-04-01              2017-04-01                2   \n",
              "14874              2017-03-02              2017-08-10                2   \n",
              "35564              2017-08-29              2017-08-29                2   \n",
              "22200              2017-06-08              2017-10-13                3   \n",
              "19030              2017-09-26              2017-11-01                2   \n",
              "20052              2017-12-04              2017-12-04                2   \n",
              "34097              2017-03-09              2017-05-26                2   \n",
              "26467              2017-12-12              2017-12-20                2   \n",
              "31868              2017-05-09              2017-05-09                2   \n",
              "35992              2017-05-19              2017-11-09                2   \n",
              "\n",
              "      customer_state  \n",
              "35983             RJ  \n",
              "14874             SP  \n",
              "35564             BA  \n",
              "22200             RS  \n",
              "19030             MG  \n",
              "20052             MG  \n",
              "34097             MG  \n",
              "26467             SP  \n",
              "31868             PR  \n",
              "35992             SC  "
            ],
            "text/html": [
              "\n",
              "\n",
              "  <div id=\"df-5576f710-1044-4199-9e85-ef0e0a124cea\">\n",
              "    <div class=\"colab-df-container\">\n",
              "      <div>\n",
              "<style scoped>\n",
              "    .dataframe tbody tr th:only-of-type {\n",
              "        vertical-align: middle;\n",
              "    }\n",
              "\n",
              "    .dataframe tbody tr th {\n",
              "        vertical-align: top;\n",
              "    }\n",
              "\n",
              "    .dataframe thead th {\n",
              "        text-align: right;\n",
              "    }\n",
              "</style>\n",
              "<table border=\"1\" class=\"dataframe\">\n",
              "  <thead>\n",
              "    <tr style=\"text-align: right;\">\n",
              "      <th></th>\n",
              "      <th>customer_unique_id</th>\n",
              "      <th>order_purchase_sum_2017</th>\n",
              "      <th>order_purchase_date_min</th>\n",
              "      <th>order_purchase_date_max</th>\n",
              "      <th>order_frequency</th>\n",
              "      <th>customer_state</th>\n",
              "    </tr>\n",
              "  </thead>\n",
              "  <tbody>\n",
              "    <tr>\n",
              "      <th>35983</th>\n",
              "      <td>da122df9eeddfedc1dc1f5349a1a690c</td>\n",
              "      <td>7388.00</td>\n",
              "      <td>2017-04-01</td>\n",
              "      <td>2017-04-01</td>\n",
              "      <td>2</td>\n",
              "      <td>RJ</td>\n",
              "    </tr>\n",
              "    <tr>\n",
              "      <th>14874</th>\n",
              "      <td>59d66d72939bc9497e19d89c61a96d5f</td>\n",
              "      <td>3459.00</td>\n",
              "      <td>2017-03-02</td>\n",
              "      <td>2017-08-10</td>\n",
              "      <td>2</td>\n",
              "      <td>SP</td>\n",
              "    </tr>\n",
              "    <tr>\n",
              "      <th>35564</th>\n",
              "      <td>d77aa95864ae5b42160937615628723a</td>\n",
              "      <td>2400.00</td>\n",
              "      <td>2017-08-29</td>\n",
              "      <td>2017-08-29</td>\n",
              "      <td>2</td>\n",
              "      <td>BA</td>\n",
              "    </tr>\n",
              "    <tr>\n",
              "      <th>22200</th>\n",
              "      <td>86df00dc5fd68f4dd5d5945ca19f3ed6</td>\n",
              "      <td>2200.00</td>\n",
              "      <td>2017-06-08</td>\n",
              "      <td>2017-10-13</td>\n",
              "      <td>3</td>\n",
              "      <td>RS</td>\n",
              "    </tr>\n",
              "    <tr>\n",
              "      <th>19030</th>\n",
              "      <td>73601b1eec55943e90ce8d61253d5c09</td>\n",
              "      <td>2009.98</td>\n",
              "      <td>2017-09-26</td>\n",
              "      <td>2017-11-01</td>\n",
              "      <td>2</td>\n",
              "      <td>MG</td>\n",
              "    </tr>\n",
              "    <tr>\n",
              "      <th>20052</th>\n",
              "      <td>798c34ffa9047399853eab8ca7c0b9a0</td>\n",
              "      <td>1770.30</td>\n",
              "      <td>2017-12-04</td>\n",
              "      <td>2017-12-04</td>\n",
              "      <td>2</td>\n",
              "      <td>MG</td>\n",
              "    </tr>\n",
              "    <tr>\n",
              "      <th>34097</th>\n",
              "      <td>cef29e793e232d30250331804cdb7000</td>\n",
              "      <td>1669.12</td>\n",
              "      <td>2017-03-09</td>\n",
              "      <td>2017-05-26</td>\n",
              "      <td>2</td>\n",
              "      <td>MG</td>\n",
              "    </tr>\n",
              "    <tr>\n",
              "      <th>26467</th>\n",
              "      <td>a1044dd75b74fbc485b040575a14acf0</td>\n",
              "      <td>1663.00</td>\n",
              "      <td>2017-12-12</td>\n",
              "      <td>2017-12-20</td>\n",
              "      <td>2</td>\n",
              "      <td>SP</td>\n",
              "    </tr>\n",
              "    <tr>\n",
              "      <th>31868</th>\n",
              "      <td>c169c9937db997a267f749cdd64c161f</td>\n",
              "      <td>1511.20</td>\n",
              "      <td>2017-05-09</td>\n",
              "      <td>2017-05-09</td>\n",
              "      <td>2</td>\n",
              "      <td>PR</td>\n",
              "    </tr>\n",
              "    <tr>\n",
              "      <th>35992</th>\n",
              "      <td>da1e7179b9c5a1494d78528cbcf05aa0</td>\n",
              "      <td>1399.90</td>\n",
              "      <td>2017-05-19</td>\n",
              "      <td>2017-11-09</td>\n",
              "      <td>2</td>\n",
              "      <td>SC</td>\n",
              "    </tr>\n",
              "  </tbody>\n",
              "</table>\n",
              "</div>\n",
              "      <button class=\"colab-df-convert\" onclick=\"convertToInteractive('df-5576f710-1044-4199-9e85-ef0e0a124cea')\"\n",
              "              title=\"Convert this dataframe to an interactive table.\"\n",
              "              style=\"display:none;\">\n",
              "\n",
              "  <svg xmlns=\"http://www.w3.org/2000/svg\" height=\"24px\"viewBox=\"0 0 24 24\"\n",
              "       width=\"24px\">\n",
              "    <path d=\"M0 0h24v24H0V0z\" fill=\"none\"/>\n",
              "    <path d=\"M18.56 5.44l.94 2.06.94-2.06 2.06-.94-2.06-.94-.94-2.06-.94 2.06-2.06.94zm-11 1L8.5 8.5l.94-2.06 2.06-.94-2.06-.94L8.5 2.5l-.94 2.06-2.06.94zm10 10l.94 2.06.94-2.06 2.06-.94-2.06-.94-.94-2.06-.94 2.06-2.06.94z\"/><path d=\"M17.41 7.96l-1.37-1.37c-.4-.4-.92-.59-1.43-.59-.52 0-1.04.2-1.43.59L10.3 9.45l-7.72 7.72c-.78.78-.78 2.05 0 2.83L4 21.41c.39.39.9.59 1.41.59.51 0 1.02-.2 1.41-.59l7.78-7.78 2.81-2.81c.8-.78.8-2.07 0-2.86zM5.41 20L4 18.59l7.72-7.72 1.47 1.35L5.41 20z\"/>\n",
              "  </svg>\n",
              "      </button>\n",
              "\n",
              "\n",
              "\n",
              "    <div id=\"df-1f44a7ae-6886-4168-ad40-f2c06fc649a2\">\n",
              "      <button class=\"colab-df-quickchart\" onclick=\"quickchart('df-1f44a7ae-6886-4168-ad40-f2c06fc649a2')\"\n",
              "              title=\"Suggest charts.\"\n",
              "              style=\"display:none;\">\n",
              "\n",
              "<svg xmlns=\"http://www.w3.org/2000/svg\" height=\"24px\"viewBox=\"0 0 24 24\"\n",
              "     width=\"24px\">\n",
              "    <g>\n",
              "        <path d=\"M19 3H5c-1.1 0-2 .9-2 2v14c0 1.1.9 2 2 2h14c1.1 0 2-.9 2-2V5c0-1.1-.9-2-2-2zM9 17H7v-7h2v7zm4 0h-2V7h2v10zm4 0h-2v-4h2v4z\"/>\n",
              "    </g>\n",
              "</svg>\n",
              "      </button>\n",
              "    </div>\n",
              "\n",
              "<style>\n",
              "  .colab-df-quickchart {\n",
              "    background-color: #E8F0FE;\n",
              "    border: none;\n",
              "    border-radius: 50%;\n",
              "    cursor: pointer;\n",
              "    display: none;\n",
              "    fill: #1967D2;\n",
              "    height: 32px;\n",
              "    padding: 0 0 0 0;\n",
              "    width: 32px;\n",
              "  }\n",
              "\n",
              "  .colab-df-quickchart:hover {\n",
              "    background-color: #E2EBFA;\n",
              "    box-shadow: 0px 1px 2px rgba(60, 64, 67, 0.3), 0px 1px 3px 1px rgba(60, 64, 67, 0.15);\n",
              "    fill: #174EA6;\n",
              "  }\n",
              "\n",
              "  [theme=dark] .colab-df-quickchart {\n",
              "    background-color: #3B4455;\n",
              "    fill: #D2E3FC;\n",
              "  }\n",
              "\n",
              "  [theme=dark] .colab-df-quickchart:hover {\n",
              "    background-color: #434B5C;\n",
              "    box-shadow: 0px 1px 3px 1px rgba(0, 0, 0, 0.15);\n",
              "    filter: drop-shadow(0px 1px 2px rgba(0, 0, 0, 0.3));\n",
              "    fill: #FFFFFF;\n",
              "  }\n",
              "</style>\n",
              "\n",
              "    <script>\n",
              "      async function quickchart(key) {\n",
              "        const containerElement = document.querySelector('#' + key);\n",
              "        const charts = await google.colab.kernel.invokeFunction(\n",
              "            'suggestCharts', [key], {});\n",
              "      }\n",
              "    </script>\n",
              "\n",
              "      <script>\n",
              "\n",
              "function displayQuickchartButton(domScope) {\n",
              "  let quickchartButtonEl =\n",
              "    domScope.querySelector('#df-1f44a7ae-6886-4168-ad40-f2c06fc649a2 button.colab-df-quickchart');\n",
              "  quickchartButtonEl.style.display =\n",
              "    google.colab.kernel.accessAllowed ? 'block' : 'none';\n",
              "}\n",
              "\n",
              "        displayQuickchartButton(document);\n",
              "      </script>\n",
              "      <style>\n",
              "    .colab-df-container {\n",
              "      display:flex;\n",
              "      flex-wrap:wrap;\n",
              "      gap: 12px;\n",
              "    }\n",
              "\n",
              "    .colab-df-convert {\n",
              "      background-color: #E8F0FE;\n",
              "      border: none;\n",
              "      border-radius: 50%;\n",
              "      cursor: pointer;\n",
              "      display: none;\n",
              "      fill: #1967D2;\n",
              "      height: 32px;\n",
              "      padding: 0 0 0 0;\n",
              "      width: 32px;\n",
              "    }\n",
              "\n",
              "    .colab-df-convert:hover {\n",
              "      background-color: #E2EBFA;\n",
              "      box-shadow: 0px 1px 2px rgba(60, 64, 67, 0.3), 0px 1px 3px 1px rgba(60, 64, 67, 0.15);\n",
              "      fill: #174EA6;\n",
              "    }\n",
              "\n",
              "    [theme=dark] .colab-df-convert {\n",
              "      background-color: #3B4455;\n",
              "      fill: #D2E3FC;\n",
              "    }\n",
              "\n",
              "    [theme=dark] .colab-df-convert:hover {\n",
              "      background-color: #434B5C;\n",
              "      box-shadow: 0px 1px 3px 1px rgba(0, 0, 0, 0.15);\n",
              "      filter: drop-shadow(0px 1px 2px rgba(0, 0, 0, 0.3));\n",
              "      fill: #FFFFFF;\n",
              "    }\n",
              "  </style>\n",
              "\n",
              "      <script>\n",
              "        const buttonEl =\n",
              "          document.querySelector('#df-5576f710-1044-4199-9e85-ef0e0a124cea button.colab-df-convert');\n",
              "        buttonEl.style.display =\n",
              "          google.colab.kernel.accessAllowed ? 'block' : 'none';\n",
              "\n",
              "        async function convertToInteractive(key) {\n",
              "          const element = document.querySelector('#df-5576f710-1044-4199-9e85-ef0e0a124cea');\n",
              "          const dataTable =\n",
              "            await google.colab.kernel.invokeFunction('convertToInteractive',\n",
              "                                                     [key], {});\n",
              "          if (!dataTable) return;\n",
              "\n",
              "          const docLinkHtml = 'Like what you see? Visit the ' +\n",
              "            '<a target=\"_blank\" href=https://colab.research.google.com/notebooks/data_table.ipynb>data table notebook</a>'\n",
              "            + ' to learn more about interactive tables.';\n",
              "          element.innerHTML = '';\n",
              "          dataTable['output_type'] = 'display_data';\n",
              "          await google.colab.output.renderOutput(dataTable, element);\n",
              "          const docLink = document.createElement('div');\n",
              "          docLink.innerHTML = docLinkHtml;\n",
              "          element.appendChild(docLink);\n",
              "        }\n",
              "      </script>\n",
              "    </div>\n",
              "  </div>\n"
            ]
          },
          "metadata": {},
          "execution_count": 98
        }
      ]
    },
    {
      "cell_type": "code",
      "source": [
        "# 구매 평균 금액\n",
        "df_vip_2017['average_purchase_price'] = df_vip_2017['order_purchase_sum_2017']/df_vip_2017['order_frequency']"
      ],
      "metadata": {
        "id": "ys4P4KmVmZBZ"
      },
      "execution_count": 110,
      "outputs": []
    },
    {
      "cell_type": "code",
      "source": [
        "# df_q01 = df_base.groupby('q01').agg(cnts = ('user_id', 'count')).reset_index()\n",
        "# df_q01.sort_values(by = 'cnts', ascending = False, inplace = True)"
      ],
      "metadata": {
        "id": "OHoXAihxhTPN"
      },
      "execution_count": 99,
      "outputs": []
    },
    {
      "cell_type": "markdown",
      "source": [
        "### 2.2.3 [진행중] 시각화"
      ],
      "metadata": {
        "id": "cLvVHPA4mb4j"
      }
    },
    {
      "cell_type": "code",
      "source": [
        "%%time\n",
        "plt.figure(figsize = (12, 8))\n",
        "\n",
        "# sns.histplot(data = df_vip_2017, x ='order_purchase_sum_2017', kde=True, bins=30, palette='Set2')\n",
        "sns.histplot(data = df_vip_2017, x ='order_purchase_sum_2017', bins=50, palette='Set2')\n",
        "\n",
        "plt.title('')\n",
        "plt.show()"
      ],
      "metadata": {
        "colab": {
          "base_uri": "https://localhost:8080/",
          "height": 657
        },
        "id": "REFSCYIpv8Q6",
        "outputId": "50ba0675-f87e-4a25-d4f2-cc445d7eafb0"
      },
      "execution_count": 171,
      "outputs": [
        {
          "output_type": "stream",
          "name": "stderr",
          "text": [
            "<timed exec>:4: UserWarning: Ignoring `palette` because no `hue` variable has been assigned.\n"
          ]
        },
        {
          "output_type": "display_data",
          "data": {
            "text/plain": [
              "<Figure size 1200x800 with 1 Axes>"
            ],
            "image/png": "[encoded data removed]"
          },
          "metadata": {}
        },
        {
          "output_type": "stream",
          "name": "stdout",
          "text": [
            "CPU times: user 402 ms, sys: 45.5 ms, total: 447 ms\n",
            "Wall time: 481 ms\n"
          ]
        }
      ]
    },
    {
      "cell_type": "code",
      "source": [
        "%%time\n",
        "plt.figure(figsize = (12, 8))\n",
        "\n",
        "# sns.histplot(data = df_vip_2017, x ='order_purchase_sum_2017', kde=True)\n",
        "sns.boxplot(data = df_vip_2017, x ='order_purchase_sum_2017', palette='Set2')\n",
        "\n",
        "plt.title('')\n",
        "plt.show()"
      ],
      "metadata": {
        "id": "0YaP3GEzmcAf",
        "colab": {
          "base_uri": "https://localhost:8080/",
          "height": 681
        },
        "outputId": "ac992795-11c0-4bb3-bf04-64ac4d60a9b4"
      },
      "execution_count": 170,
      "outputs": [
        {
          "output_type": "display_data",
          "data": {
            "text/plain": [
              "<Figure size 1200x800 with 1 Axes>"
            ],
            "image/png": "[encoded data removed]"
          },
          "metadata": {}
        },
        {
          "output_type": "stream",
          "name": "stdout",
          "text": [
            "CPU times: user 240 ms, sys: 50 ms, total: 290 ms\n",
            "Wall time: 300 ms\n"
          ]
        }
      ]
    },
    {
      "cell_type": "code",
      "source": [
        "# outlier 기준: Q3 + 1.5 IQR\n",
        "\n",
        "Q3 = df_vip_2017.order_purchase_sum_2017.quantile(q= 0.75) # 154.9\n",
        "Q1 = df_vip_2017.order_purchase_sum_2017.quantile(q= 0.25) # 47.98\n",
        "IQR = Q3-Q1\n",
        "\n",
        "outlier_border = Q3 + 1.5 * IQR\n",
        "\n",
        "print(f'기존 dataset shape: {df_vip_2017.shape}')\n",
        "outliers = df_vip_2017[ df_vip_2017['order_purchase_sum_2017'] >= outlier_border ]\n",
        "\n",
        "print(f'아웃라이어에 해당하는 데이터 shape: {outliers.shape}, 전체의 {round(outliers.shape[0]/df_vip_2017.shape[0]*100, 2)}%')\n"
      ],
      "metadata": {
        "colab": {
          "base_uri": "https://localhost:8080/"
        },
        "id": "GhdD_XiPucdS",
        "outputId": "ec0ad552-3ff6-48e9-9e5a-413691123b47"
      },
      "execution_count": 155,
      "outputs": [
        {
          "output_type": "stream",
          "name": "stdout",
          "text": [
            "기존 dataset shape: (42136, 7)\n",
            "아웃라이어에 해당하는 데이터 shape: (3501, 7), 전체의 8.31%\n"
          ]
        }
      ]
    },
    {
      "cell_type": "code",
      "source": [],
      "metadata": {
        "id": "yBkE4NNbz3IS"
      },
      "execution_count": null,
      "outputs": []
    },
    {
      "cell_type": "code",
      "source": [],
      "metadata": {
        "id": "7nGjvIPCz3ZD"
      },
      "execution_count": null,
      "outputs": []
    },
    {
      "cell_type": "code",
      "source": [
        "%%time\n",
        "plt.figure(figsize = (8, 8))\n",
        "\n",
        "sns.scatterplot(data = df_vip_2017, x ='order_purchase_sum_2017', y ='order_frequency') #hue = 'customer_state')\n",
        "# sns.scatterplot(data = df_vip_2017, x ='order_purchase_sum_2017', y ='average_purchase_price') #hue = 'customer_state')\n",
        "\n",
        "# 이 상태로는 클러스터링 어려움 (order_frequency가 정수형이라서)\n",
        "## order_frequency = 1 인 경우가 가장 많음\n",
        "\n",
        "plt.title('')\n",
        "plt.show()"
      ],
      "metadata": {
        "colab": {
          "base_uri": "https://localhost:8080/",
          "height": 732
        },
        "id": "dCl7hrtuirE-",
        "outputId": "70d5f4eb-e751-4614-c6d7-dbc8b71b5332"
      },
      "execution_count": 113,
      "outputs": [
        {
          "output_type": "display_data",
          "data": {
            "text/plain": [
              "<Figure size 800x800 with 1 Axes>"
            ],
            "image/png": "[encoded data removed]"
          },
          "metadata": {}
        },
        {
          "output_type": "stream",
          "name": "stdout",
          "text": [
            "CPU times: user 417 ms, sys: 48.3 ms, total: 465 ms\n",
            "Wall time: 446 ms\n"
          ]
        }
      ]
    },
    {
      "cell_type": "code",
      "source": [],
      "metadata": {
        "id": "_j6CjZmKmcDH"
      },
      "execution_count": 101,
      "outputs": []
    },
    {
      "cell_type": "markdown",
      "source": [
        "## 2.2. [진행중] 구입금액 top 100 유저 분석"
      ],
      "metadata": {
        "id": "6Hcv20HBZ3Cu"
      }
    },
    {
      "cell_type": "markdown",
      "source": [
        "### 2.2.1. 데이터 준비 (슬라이싱)"
      ],
      "metadata": {
        "id": "JeaowYeulqhk"
      }
    },
    {
      "cell_type": "code",
      "source": [
        "vip_100 = df_vip_2017.head(100)\n",
        "vip_100.head(5)"
      ],
      "metadata": {
        "id": "z04ZQ9elaQDe",
        "colab": {
          "base_uri": "https://localhost:8080/",
          "height": 270
        },
        "outputId": "bbc758a0-feef-4520-ee1f-a9116558feeb"
      },
      "execution_count": 104,
      "outputs": [
        {
          "output_type": "execute_result",
          "data": {
            "text/plain": [
              "                     customer_unique_id  order_purchase_sum_2017  \\\n",
              "1690   0a0a92112bd4c708ca5fde585afaa872                  13440.0   \n",
              "35983  da122df9eeddfedc1dc1f5349a1a690c                   7388.0   \n",
              "36349  dc4802a71eae9be1dd28f5d788ceb526                   6735.0   \n",
              "42003  ff4159b92c40ebe40454e3e6a7c35ed6                   6499.0   \n",
              "10550  4007669dec559734d6f53e029e360987                   5934.6   \n",
              "\n",
              "      order_purchase_date_min order_purchase_date_max  order_frequency  \\\n",
              "1690               2017-09-29              2017-09-29                1   \n",
              "35983              2017-04-01              2017-04-01                2   \n",
              "36349              2017-02-12              2017-02-12                1   \n",
              "42003              2017-05-24              2017-05-24                1   \n",
              "10550              2017-11-24              2017-11-24                1   \n",
              "\n",
              "      customer_state  \n",
              "1690              RJ  \n",
              "35983             RJ  \n",
              "36349             MS  \n",
              "42003             SP  \n",
              "10550             MG  "
            ],
            "text/html": [
              "\n",
              "\n",
              "  <div id=\"df-c100016b-9617-442e-bcc4-829aaa934d30\">\n",
              "    <div class=\"colab-df-container\">\n",
              "      <div>\n",
              "<style scoped>\n",
              "    .dataframe tbody tr th:only-of-type {\n",
              "        vertical-align: middle;\n",
              "    }\n",
              "\n",
              "    .dataframe tbody tr th {\n",
              "        vertical-align: top;\n",
              "    }\n",
              "\n",
              "    .dataframe thead th {\n",
              "        text-align: right;\n",
              "    }\n",
              "</style>\n",
              "<table border=\"1\" class=\"dataframe\">\n",
              "  <thead>\n",
              "    <tr style=\"text-align: right;\">\n",
              "      <th></th>\n",
              "      <th>customer_unique_id</th>\n",
              "      <th>order_purchase_sum_2017</th>\n",
              "      <th>order_purchase_date_min</th>\n",
              "      <th>order_purchase_date_max</th>\n",
              "      <th>order_frequency</th>\n",
              "      <th>customer_state</th>\n",
              "    </tr>\n",
              "  </thead>\n",
              "  <tbody>\n",
              "    <tr>\n",
              "      <th>1690</th>\n",
              "      <td>0a0a92112bd4c708ca5fde585afaa872</td>\n",
              "      <td>13440.0</td>\n",
              "      <td>2017-09-29</td>\n",
              "      <td>2017-09-29</td>\n",
              "      <td>1</td>\n",
              "      <td>RJ</td>\n",
              "    </tr>\n",
              "    <tr>\n",
              "      <th>35983</th>\n",
              "      <td>da122df9eeddfedc1dc1f5349a1a690c</td>\n",
              "      <td>7388.0</td>\n",
              "      <td>2017-04-01</td>\n",
              "      <td>2017-04-01</td>\n",
              "      <td>2</td>\n",
              "      <td>RJ</td>\n",
              "    </tr>\n",
              "    <tr>\n",
              "      <th>36349</th>\n",
              "      <td>dc4802a71eae9be1dd28f5d788ceb526</td>\n",
              "      <td>6735.0</td>\n",
              "      <td>2017-02-12</td>\n",
              "      <td>2017-02-12</td>\n",
              "      <td>1</td>\n",
              "      <td>MS</td>\n",
              "    </tr>\n",
              "    <tr>\n",
              "      <th>42003</th>\n",
              "      <td>ff4159b92c40ebe40454e3e6a7c35ed6</td>\n",
              "      <td>6499.0</td>\n",
              "      <td>2017-05-24</td>\n",
              "      <td>2017-05-24</td>\n",
              "      <td>1</td>\n",
              "      <td>SP</td>\n",
              "    </tr>\n",
              "    <tr>\n",
              "      <th>10550</th>\n",
              "      <td>4007669dec559734d6f53e029e360987</td>\n",
              "      <td>5934.6</td>\n",
              "      <td>2017-11-24</td>\n",
              "      <td>2017-11-24</td>\n",
              "      <td>1</td>\n",
              "      <td>MG</td>\n",
              "    </tr>\n",
              "  </tbody>\n",
              "</table>\n",
              "</div>\n",
              "      <button class=\"colab-df-convert\" onclick=\"convertToInteractive('df-c100016b-9617-442e-bcc4-829aaa934d30')\"\n",
              "              title=\"Convert this dataframe to an interactive table.\"\n",
              "              style=\"display:none;\">\n",
              "\n",
              "  <svg xmlns=\"http://www.w3.org/2000/svg\" height=\"24px\"viewBox=\"0 0 24 24\"\n",
              "       width=\"24px\">\n",
              "    <path d=\"M0 0h24v24H0V0z\" fill=\"none\"/>\n",
              "    <path d=\"M18.56 5.44l.94 2.06.94-2.06 2.06-.94-2.06-.94-.94-2.06-.94 2.06-2.06.94zm-11 1L8.5 8.5l.94-2.06 2.06-.94-2.06-.94L8.5 2.5l-.94 2.06-2.06.94zm10 10l.94 2.06.94-2.06 2.06-.94-2.06-.94-.94-2.06-.94 2.06-2.06.94z\"/><path d=\"M17.41 7.96l-1.37-1.37c-.4-.4-.92-.59-1.43-.59-.52 0-1.04.2-1.43.59L10.3 9.45l-7.72 7.72c-.78.78-.78 2.05 0 2.83L4 21.41c.39.39.9.59 1.41.59.51 0 1.02-.2 1.41-.59l7.78-7.78 2.81-2.81c.8-.78.8-2.07 0-2.86zM5.41 20L4 18.59l7.72-7.72 1.47 1.35L5.41 20z\"/>\n",
              "  </svg>\n",
              "      </button>\n",
              "\n",
              "\n",
              "\n",
              "    <div id=\"df-6b68781d-517a-4bc1-b30f-253d426a866f\">\n",
              "      <button class=\"colab-df-quickchart\" onclick=\"quickchart('df-6b68781d-517a-4bc1-b30f-253d426a866f')\"\n",
              "              title=\"Suggest charts.\"\n",
              "              style=\"display:none;\">\n",
              "\n",
              "<svg xmlns=\"http://www.w3.org/2000/svg\" height=\"24px\"viewBox=\"0 0 24 24\"\n",
              "     width=\"24px\">\n",
              "    <g>\n",
              "        <path d=\"M19 3H5c-1.1 0-2 .9-2 2v14c0 1.1.9 2 2 2h14c1.1 0 2-.9 2-2V5c0-1.1-.9-2-2-2zM9 17H7v-7h2v7zm4 0h-2V7h2v10zm4 0h-2v-4h2v4z\"/>\n",
              "    </g>\n",
              "</svg>\n",
              "      </button>\n",
              "    </div>\n",
              "\n",
              "<style>\n",
              "  .colab-df-quickchart {\n",
              "    background-color: #E8F0FE;\n",
              "    border: none;\n",
              "    border-radius: 50%;\n",
              "    cursor: pointer;\n",
              "    display: none;\n",
              "    fill: #1967D2;\n",
              "    height: 32px;\n",
              "    padding: 0 0 0 0;\n",
              "    width: 32px;\n",
              "  }\n",
              "\n",
              "  .colab-df-quickchart:hover {\n",
              "    background-color: #E2EBFA;\n",
              "    box-shadow: 0px 1px 2px rgba(60, 64, 67, 0.3), 0px 1px 3px 1px rgba(60, 64, 67, 0.15);\n",
              "    fill: #174EA6;\n",
              "  }\n",
              "\n",
              "  [theme=dark] .colab-df-quickchart {\n",
              "    background-color: #3B4455;\n",
              "    fill: #D2E3FC;\n",
              "  }\n",
              "\n",
              "  [theme=dark] .colab-df-quickchart:hover {\n",
              "    background-color: #434B5C;\n",
              "    box-shadow: 0px 1px 3px 1px rgba(0, 0, 0, 0.15);\n",
              "    filter: drop-shadow(0px 1px 2px rgba(0, 0, 0, 0.3));\n",
              "    fill: #FFFFFF;\n",
              "  }\n",
              "</style>\n",
              "\n",
              "    <script>\n",
              "      async function quickchart(key) {\n",
              "        const containerElement = document.querySelector('#' + key);\n",
              "        const charts = await google.colab.kernel.invokeFunction(\n",
              "            'suggestCharts', [key], {});\n",
              "      }\n",
              "    </script>\n",
              "\n",
              "      <script>\n",
              "\n",
              "function displayQuickchartButton(domScope) {\n",
              "  let quickchartButtonEl =\n",
              "    domScope.querySelector('#df-6b68781d-517a-4bc1-b30f-253d426a866f button.colab-df-quickchart');\n",
              "  quickchartButtonEl.style.display =\n",
              "    google.colab.kernel.accessAllowed ? 'block' : 'none';\n",
              "}\n",
              "\n",
              "        displayQuickchartButton(document);\n",
              "      </script>\n",
              "      <style>\n",
              "    .colab-df-container {\n",
              "      display:flex;\n",
              "      flex-wrap:wrap;\n",
              "      gap: 12px;\n",
              "    }\n",
              "\n",
              "    .colab-df-convert {\n",
              "      background-color: #E8F0FE;\n",
              "      border: none;\n",
              "      border-radius: 50%;\n",
              "      cursor: pointer;\n",
              "      display: none;\n",
              "      fill: #1967D2;\n",
              "      height: 32px;\n",
              "      padding: 0 0 0 0;\n",
              "      width: 32px;\n",
              "    }\n",
              "\n",
              "    .colab-df-convert:hover {\n",
              "      background-color: #E2EBFA;\n",
              "      box-shadow: 0px 1px 2px rgba(60, 64, 67, 0.3), 0px 1px 3px 1px rgba(60, 64, 67, 0.15);\n",
              "      fill: #174EA6;\n",
              "    }\n",
              "\n",
              "    [theme=dark] .colab-df-convert {\n",
              "      background-color: #3B4455;\n",
              "      fill: #D2E3FC;\n",
              "    }\n",
              "\n",
              "    [theme=dark] .colab-df-convert:hover {\n",
              "      background-color: #434B5C;\n",
              "      box-shadow: 0px 1px 3px 1px rgba(0, 0, 0, 0.15);\n",
              "      filter: drop-shadow(0px 1px 2px rgba(0, 0, 0, 0.3));\n",
              "      fill: #FFFFFF;\n",
              "    }\n",
              "  </style>\n",
              "\n",
              "      <script>\n",
              "        const buttonEl =\n",
              "          document.querySelector('#df-c100016b-9617-442e-bcc4-829aaa934d30 button.colab-df-convert');\n",
              "        buttonEl.style.display =\n",
              "          google.colab.kernel.accessAllowed ? 'block' : 'none';\n",
              "\n",
              "        async function convertToInteractive(key) {\n",
              "          const element = document.querySelector('#df-c100016b-9617-442e-bcc4-829aaa934d30');\n",
              "          const dataTable =\n",
              "            await google.colab.kernel.invokeFunction('convertToInteractive',\n",
              "                                                     [key], {});\n",
              "          if (!dataTable) return;\n",
              "\n",
              "          const docLinkHtml = 'Like what you see? Visit the ' +\n",
              "            '<a target=\"_blank\" href=https://colab.research.google.com/notebooks/data_table.ipynb>data table notebook</a>'\n",
              "            + ' to learn more about interactive tables.';\n",
              "          element.innerHTML = '';\n",
              "          dataTable['output_type'] = 'display_data';\n",
              "          await google.colab.output.renderOutput(dataTable, element);\n",
              "          const docLink = document.createElement('div');\n",
              "          docLink.innerHTML = docLinkHtml;\n",
              "          element.appendChild(docLink);\n",
              "        }\n",
              "      </script>\n",
              "    </div>\n",
              "  </div>\n"
            ]
          },
          "metadata": {},
          "execution_count": 104
        }
      ]
    },
    {
      "cell_type": "code",
      "source": [],
      "metadata": {
        "id": "4BEQSkPjluyF"
      },
      "execution_count": null,
      "outputs": []
    },
    {
      "cell_type": "code",
      "source": [],
      "metadata": {
        "id": "0lZGyOgblu07"
      },
      "execution_count": null,
      "outputs": []
    },
    {
      "cell_type": "markdown",
      "source": [
        "### 2.2.2. 시각화"
      ],
      "metadata": {
        "id": "iUHM98diluRk"
      }
    },
    {
      "cell_type": "code",
      "source": [
        "%%time\n",
        "# (확인용) 상위 100명 고객만 2017년 구입금액 histplot\n",
        "\n",
        "plt.figure(figsize = (12, 8))\n",
        "\n",
        "sns.histplot(data = vip_100, x ='order_purchase_sum_2017', kde=True)\n",
        "# sns.boxplot(data = vip_100, x ='order_purchase_sum_2017', palette='Set2')\n",
        "\n",
        "# plt.xlim(1900, 4200)\n",
        "\n",
        "plt.show()"
      ],
      "metadata": {
        "id": "71cetFY2aQFp",
        "colab": {
          "base_uri": "https://localhost:8080/",
          "height": 652
        },
        "outputId": "9df1be73-ad1d-4efd-c3b3-33ac7c6d270a"
      },
      "execution_count": 142,
      "outputs": [
        {
          "output_type": "display_data",
          "data": {
            "text/plain": [
              "<Figure size 1200x800 with 1 Axes>"
            ],
            "image/png": "[encoded data removed]"
          },
          "metadata": {}
        },
        {
          "output_type": "stream",
          "name": "stdout",
          "text": [
            "CPU times: user 366 ms, sys: 96.2 ms, total: 462 ms\n",
            "Wall time: 454 ms\n"
          ]
        }
      ]
    },
    {
      "cell_type": "code",
      "source": [
        "%%time\n",
        "# 상위 100명 유저 state 별 집계\n",
        "\n",
        "# vip_100_state = vip_100.groupby(['customer_state']).agg(top100_customer_cnt = ('customer_unique_id', 'count'))\\\n",
        "# .reset_index().sort_values(by='top100_customer_cnt', ascending = False)\n",
        "\n",
        "# vip_100_state\n",
        "\n",
        "vip_100.customer_state.value_counts()"
      ],
      "metadata": {
        "colab": {
          "base_uri": "https://localhost:8080/"
        },
        "id": "Yp0IRP1JnPdr",
        "outputId": "a5fd0410-eb0f-44f9-be9d-f0ee8d00b8b4"
      },
      "execution_count": 127,
      "outputs": [
        {
          "output_type": "stream",
          "name": "stdout",
          "text": [
            "CPU times: user 1.34 ms, sys: 0 ns, total: 1.34 ms\n",
            "Wall time: 12.9 ms\n"
          ]
        },
        {
          "output_type": "execute_result",
          "data": {
            "text/plain": [
              "SP    33\n",
              "RJ    14\n",
              "MG    10\n",
              "RS     7\n",
              "BA     7\n",
              "SC     5\n",
              "PR     4\n",
              "PE     4\n",
              "DF     3\n",
              "MS     2\n",
              "GO     2\n",
              "PB     2\n",
              "PA     1\n",
              "CE     1\n",
              "TO     1\n",
              "RO     1\n",
              "MT     1\n",
              "MA     1\n",
              "AL     1\n",
              "Name: customer_state, dtype: int64"
            ]
          },
          "metadata": {},
          "execution_count": 127
        }
      ]
    },
    {
      "cell_type": "code",
      "source": [
        "%%time\n",
        "# 상위 100명 유저 state 별 집계\n",
        "\n",
        "## 역시 SP에 VIP 유저가 쏠려 있음\n",
        "## 지도로 표시할 수 있으면 좋을 것 같은데\n",
        "\n",
        "plt.figure(figsize = (15,8))\n",
        "\n",
        "sns.countplot(data = vip_100, x ='customer_state', order = vip_100.customer_state.value_counts().index)\n",
        "# 버블 차트??? <- 찾아보기\n",
        "\n",
        "plt.show()"
      ],
      "metadata": {
        "colab": {
          "base_uri": "https://localhost:8080/",
          "height": 548
        },
        "id": "MQeuNtbWn_UM",
        "outputId": "ca52c9fc-5d27-4a8d-8bde-dee8cf0d8582"
      },
      "execution_count": 129,
      "outputs": [
        {
          "output_type": "display_data",
          "data": {
            "text/plain": [
              "<Figure size 1500x800 with 1 Axes>"
            ],
            "image/png": "[encoded data removed]"
          },
          "metadata": {}
        },
        {
          "output_type": "stream",
          "name": "stdout",
          "text": [
            "CPU times: user 357 ms, sys: 54.1 ms, total: 411 ms\n",
            "Wall time: 412 ms\n"
          ]
        }
      ]
    },
    {
      "cell_type": "code",
      "source": [],
      "metadata": {
        "id": "bfFvc_ZTlfYq"
      },
      "execution_count": null,
      "outputs": []
    },
    {
      "cell_type": "code",
      "source": [],
      "metadata": {
        "id": "kEvq1-Fklfbr"
      },
      "execution_count": null,
      "outputs": []
    },
    {
      "cell_type": "markdown",
      "source": [
        "## 2.3. [진행중] 1번 구매 고객 vs 재구매고객\n",
        "\n",
        "- 1번 구매 고객 vs 재구매 고객\n",
        "  - 재구매가 '언제' 발생했는가? x축: 월, y축: order count\n",
        "  - 재구매가 '어떤 카테고리'에서 발생했는가? x축: 카테고리, y축: order count"
      ],
      "metadata": {
        "id": "sQSV01fEVEGJ"
      }
    },
    {
      "cell_type": "markdown",
      "source": [
        "### 2.3.1. 데이터 준비 (필터링)"
      ],
      "metadata": {
        "id": "1s0rYHsQpSkE"
      }
    },
    {
      "cell_type": "code",
      "source": [
        "df_vip_2017.head()"
      ],
      "metadata": {
        "colab": {
          "base_uri": "https://localhost:8080/",
          "height": 270
        },
        "id": "S_LieIq8VEM4",
        "outputId": "6c833859-a322-47d2-9212-3a1dcaf7ec86"
      },
      "execution_count": 131,
      "outputs": [
        {
          "output_type": "execute_result",
          "data": {
            "text/plain": [
              "                     customer_unique_id  order_purchase_sum_2017  \\\n",
              "1690   0a0a92112bd4c708ca5fde585afaa872                  13440.0   \n",
              "35983  da122df9eeddfedc1dc1f5349a1a690c                   7388.0   \n",
              "36349  dc4802a71eae9be1dd28f5d788ceb526                   6735.0   \n",
              "42003  ff4159b92c40ebe40454e3e6a7c35ed6                   6499.0   \n",
              "10550  4007669dec559734d6f53e029e360987                   5934.6   \n",
              "\n",
              "      order_purchase_date_min order_purchase_date_max  order_frequency  \\\n",
              "1690               2017-09-29              2017-09-29                1   \n",
              "35983              2017-04-01              2017-04-01                2   \n",
              "36349              2017-02-12              2017-02-12                1   \n",
              "42003              2017-05-24              2017-05-24                1   \n",
              "10550              2017-11-24              2017-11-24                1   \n",
              "\n",
              "      customer_state  average_purchase_price  \n",
              "1690              RJ                 13440.0  \n",
              "35983             RJ                  3694.0  \n",
              "36349             MS                  6735.0  \n",
              "42003             SP                  6499.0  \n",
              "10550             MG                  5934.6  "
            ],
            "text/html": [
              "\n",
              "\n",
              "  <div id=\"df-efda0d56-badf-4984-bc0e-f4c6ccc7b47c\">\n",
              "    <div class=\"colab-df-container\">\n",
              "      <div>\n",
              "<style scoped>\n",
              "    .dataframe tbody tr th:only-of-type {\n",
              "        vertical-align: middle;\n",
              "    }\n",
              "\n",
              "    .dataframe tbody tr th {\n",
              "        vertical-align: top;\n",
              "    }\n",
              "\n",
              "    .dataframe thead th {\n",
              "        text-align: right;\n",
              "    }\n",
              "</style>\n",
              "<table border=\"1\" class=\"dataframe\">\n",
              "  <thead>\n",
              "    <tr style=\"text-align: right;\">\n",
              "      <th></th>\n",
              "      <th>customer_unique_id</th>\n",
              "      <th>order_purchase_sum_2017</th>\n",
              "      <th>order_purchase_date_min</th>\n",
              "      <th>order_purchase_date_max</th>\n",
              "      <th>order_frequency</th>\n",
              "      <th>customer_state</th>\n",
              "      <th>average_purchase_price</th>\n",
              "    </tr>\n",
              "  </thead>\n",
              "  <tbody>\n",
              "    <tr>\n",
              "      <th>1690</th>\n",
              "      <td>0a0a92112bd4c708ca5fde585afaa872</td>\n",
              "      <td>13440.0</td>\n",
              "      <td>2017-09-29</td>\n",
              "      <td>2017-09-29</td>\n",
              "      <td>1</td>\n",
              "      <td>RJ</td>\n",
              "      <td>13440.0</td>\n",
              "    </tr>\n",
              "    <tr>\n",
              "      <th>35983</th>\n",
              "      <td>da122df9eeddfedc1dc1f5349a1a690c</td>\n",
              "      <td>7388.0</td>\n",
              "      <td>2017-04-01</td>\n",
              "      <td>2017-04-01</td>\n",
              "      <td>2</td>\n",
              "      <td>RJ</td>\n",
              "      <td>3694.0</td>\n",
              "    </tr>\n",
              "    <tr>\n",
              "      <th>36349</th>\n",
              "      <td>dc4802a71eae9be1dd28f5d788ceb526</td>\n",
              "      <td>6735.0</td>\n",
              "      <td>2017-02-12</td>\n",
              "      <td>2017-02-12</td>\n",
              "      <td>1</td>\n",
              "      <td>MS</td>\n",
              "      <td>6735.0</td>\n",
              "    </tr>\n",
              "    <tr>\n",
              "      <th>42003</th>\n",
              "      <td>ff4159b92c40ebe40454e3e6a7c35ed6</td>\n",
              "      <td>6499.0</td>\n",
              "      <td>2017-05-24</td>\n",
              "      <td>2017-05-24</td>\n",
              "      <td>1</td>\n",
              "      <td>SP</td>\n",
              "      <td>6499.0</td>\n",
              "    </tr>\n",
              "    <tr>\n",
              "      <th>10550</th>\n",
              "      <td>4007669dec559734d6f53e029e360987</td>\n",
              "      <td>5934.6</td>\n",
              "      <td>2017-11-24</td>\n",
              "      <td>2017-11-24</td>\n",
              "      <td>1</td>\n",
              "      <td>MG</td>\n",
              "      <td>5934.6</td>\n",
              "    </tr>\n",
              "  </tbody>\n",
              "</table>\n",
              "</div>\n",
              "      <button class=\"colab-df-convert\" onclick=\"convertToInteractive('df-efda0d56-badf-4984-bc0e-f4c6ccc7b47c')\"\n",
              "              title=\"Convert this dataframe to an interactive table.\"\n",
              "              style=\"display:none;\">\n",
              "\n",
              "  <svg xmlns=\"http://www.w3.org/2000/svg\" height=\"24px\"viewBox=\"0 0 24 24\"\n",
              "       width=\"24px\">\n",
              "    <path d=\"M0 0h24v24H0V0z\" fill=\"none\"/>\n",
              "    <path d=\"M18.56 5.44l.94 2.06.94-2.06 2.06-.94-2.06-.94-.94-2.06-.94 2.06-2.06.94zm-11 1L8.5 8.5l.94-2.06 2.06-.94-2.06-.94L8.5 2.5l-.94 2.06-2.06.94zm10 10l.94 2.06.94-2.06 2.06-.94-2.06-.94-.94-2.06-.94 2.06-2.06.94z\"/><path d=\"M17.41 7.96l-1.37-1.37c-.4-.4-.92-.59-1.43-.59-.52 0-1.04.2-1.43.59L10.3 9.45l-7.72 7.72c-.78.78-.78 2.05 0 2.83L4 21.41c.39.39.9.59 1.41.59.51 0 1.02-.2 1.41-.59l7.78-7.78 2.81-2.81c.8-.78.8-2.07 0-2.86zM5.41 20L4 18.59l7.72-7.72 1.47 1.35L5.41 20z\"/>\n",
              "  </svg>\n",
              "      </button>\n",
              "\n",
              "\n",
              "\n",
              "    <div id=\"df-8cf0b29a-777e-42c3-b0f0-643fcfb1842a\">\n",
              "      <button class=\"colab-df-quickchart\" onclick=\"quickchart('df-8cf0b29a-777e-42c3-b0f0-643fcfb1842a')\"\n",
              "              title=\"Suggest charts.\"\n",
              "              style=\"display:none;\">\n",
              "\n",
              "<svg xmlns=\"http://www.w3.org/2000/svg\" height=\"24px\"viewBox=\"0 0 24 24\"\n",
              "     width=\"24px\">\n",
              "    <g>\n",
              "        <path d=\"M19 3H5c-1.1 0-2 .9-2 2v14c0 1.1.9 2 2 2h14c1.1 0 2-.9 2-2V5c0-1.1-.9-2-2-2zM9 17H7v-7h2v7zm4 0h-2V7h2v10zm4 0h-2v-4h2v4z\"/>\n",
              "    </g>\n",
              "</svg>\n",
              "      </button>\n",
              "    </div>\n",
              "\n",
              "<style>\n",
              "  .colab-df-quickchart {\n",
              "    background-color: #E8F0FE;\n",
              "    border: none;\n",
              "    border-radius: 50%;\n",
              "    cursor: pointer;\n",
              "    display: none;\n",
              "    fill: #1967D2;\n",
              "    height: 32px;\n",
              "    padding: 0 0 0 0;\n",
              "    width: 32px;\n",
              "  }\n",
              "\n",
              "  .colab-df-quickchart:hover {\n",
              "    background-color: #E2EBFA;\n",
              "    box-shadow: 0px 1px 2px rgba(60, 64, 67, 0.3), 0px 1px 3px 1px rgba(60, 64, 67, 0.15);\n",
              "    fill: #174EA6;\n",
              "  }\n",
              "\n",
              "  [theme=dark] .colab-df-quickchart {\n",
              "    background-color: #3B4455;\n",
              "    fill: #D2E3FC;\n",
              "  }\n",
              "\n",
              "  [theme=dark] .colab-df-quickchart:hover {\n",
              "    background-color: #434B5C;\n",
              "    box-shadow: 0px 1px 3px 1px rgba(0, 0, 0, 0.15);\n",
              "    filter: drop-shadow(0px 1px 2px rgba(0, 0, 0, 0.3));\n",
              "    fill: #FFFFFF;\n",
              "  }\n",
              "</style>\n",
              "\n",
              "    <script>\n",
              "      async function quickchart(key) {\n",
              "        const containerElement = document.querySelector('#' + key);\n",
              "        const charts = await google.colab.kernel.invokeFunction(\n",
              "            'suggestCharts', [key], {});\n",
              "      }\n",
              "    </script>\n",
              "\n",
              "      <script>\n",
              "\n",
              "function displayQuickchartButton(domScope) {\n",
              "  let quickchartButtonEl =\n",
              "    domScope.querySelector('#df-8cf0b29a-777e-42c3-b0f0-643fcfb1842a button.colab-df-quickchart');\n",
              "  quickchartButtonEl.style.display =\n",
              "    google.colab.kernel.accessAllowed ? 'block' : 'none';\n",
              "}\n",
              "\n",
              "        displayQuickchartButton(document);\n",
              "      </script>\n",
              "      <style>\n",
              "    .colab-df-container {\n",
              "      display:flex;\n",
              "      flex-wrap:wrap;\n",
              "      gap: 12px;\n",
              "    }\n",
              "\n",
              "    .colab-df-convert {\n",
              "      background-color: #E8F0FE;\n",
              "      border: none;\n",
              "      border-radius: 50%;\n",
              "      cursor: pointer;\n",
              "      display: none;\n",
              "      fill: #1967D2;\n",
              "      height: 32px;\n",
              "      padding: 0 0 0 0;\n",
              "      width: 32px;\n",
              "    }\n",
              "\n",
              "    .colab-df-convert:hover {\n",
              "      background-color: #E2EBFA;\n",
              "      box-shadow: 0px 1px 2px rgba(60, 64, 67, 0.3), 0px 1px 3px 1px rgba(60, 64, 67, 0.15);\n",
              "      fill: #174EA6;\n",
              "    }\n",
              "\n",
              "    [theme=dark] .colab-df-convert {\n",
              "      background-color: #3B4455;\n",
              "      fill: #D2E3FC;\n",
              "    }\n",
              "\n",
              "    [theme=dark] .colab-df-convert:hover {\n",
              "      background-color: #434B5C;\n",
              "      box-shadow: 0px 1px 3px 1px rgba(0, 0, 0, 0.15);\n",
              "      filter: drop-shadow(0px 1px 2px rgba(0, 0, 0, 0.3));\n",
              "      fill: #FFFFFF;\n",
              "    }\n",
              "  </style>\n",
              "\n",
              "      <script>\n",
              "        const buttonEl =\n",
              "          document.querySelector('#df-efda0d56-badf-4984-bc0e-f4c6ccc7b47c button.colab-df-convert');\n",
              "        buttonEl.style.display =\n",
              "          google.colab.kernel.accessAllowed ? 'block' : 'none';\n",
              "\n",
              "        async function convertToInteractive(key) {\n",
              "          const element = document.querySelector('#df-efda0d56-badf-4984-bc0e-f4c6ccc7b47c');\n",
              "          const dataTable =\n",
              "            await google.colab.kernel.invokeFunction('convertToInteractive',\n",
              "                                                     [key], {});\n",
              "          if (!dataTable) return;\n",
              "\n",
              "          const docLinkHtml = 'Like what you see? Visit the ' +\n",
              "            '<a target=\"_blank\" href=https://colab.research.google.com/notebooks/data_table.ipynb>data table notebook</a>'\n",
              "            + ' to learn more about interactive tables.';\n",
              "          element.innerHTML = '';\n",
              "          dataTable['output_type'] = 'display_data';\n",
              "          await google.colab.output.renderOutput(dataTable, element);\n",
              "          const docLink = document.createElement('div');\n",
              "          docLink.innerHTML = docLinkHtml;\n",
              "          element.appendChild(docLink);\n",
              "        }\n",
              "      </script>\n",
              "    </div>\n",
              "  </div>\n"
            ]
          },
          "metadata": {},
          "execution_count": 131
        }
      ]
    },
    {
      "cell_type": "code",
      "source": [
        "df_customers_new = df_vip_2017[ df_vip_2017['order_frequency'] == 1 ]\n",
        "print(f'1번 구매한 고객 : df_customers_new, {df_customers_new.shape}')\n",
        "\n",
        "df_customers_repurchase = df_vip_2017[ df_vip_2017['order_frequency'] > 1 ]\n",
        "print(f'2번 이상 구매한 고객 : df_customers_repurchase, {df_customers_repurchase.shape}')"
      ],
      "metadata": {
        "colab": {
          "base_uri": "https://localhost:8080/"
        },
        "id": "_o0-fqtvVEQW",
        "outputId": "0bcb2525-4751-4427-e4a7-5e25ed97b149"
      },
      "execution_count": 159,
      "outputs": [
        {
          "output_type": "stream",
          "name": "stdout",
          "text": [
            "1번 구매한 고객 리스트: df_customers_new, (40966, 7)\n",
            "2번 이상 구매한 고객 리스트: df_customers_repurchase, (1170, 7)\n"
          ]
        }
      ]
    },
    {
      "cell_type": "markdown",
      "source": [
        "### 2.3.2. 시각화"
      ],
      "metadata": {
        "id": "QWlzUhkSpWh7"
      }
    },
    {
      "cell_type": "code",
      "source": [
        "# 구매 빈도 수 value_counts\n",
        "df_vip_2017.order_frequency.value_counts()"
      ],
      "metadata": {
        "colab": {
          "base_uri": "https://localhost:8080/"
        },
        "id": "x15MOZCawmj8",
        "outputId": "64aeef31-335b-409d-99d2-373f413705f4"
      },
      "execution_count": 160,
      "outputs": [
        {
          "output_type": "execute_result",
          "data": {
            "text/plain": [
              "1    40966\n",
              "2     1077\n",
              "3       74\n",
              "4       13\n",
              "5        4\n",
              "8        1\n",
              "6        1\n",
              "Name: order_frequency, dtype: int64"
            ]
          },
          "metadata": {},
          "execution_count": 160
        }
      ]
    },
    {
      "cell_type": "code",
      "source": [
        "# 구매 빈도 수 barplot (확인용)\n",
        "\n",
        "plt.figure(figsize = (12, 8))\n",
        "\n",
        "sns.countplot(data = df_vip_2017, x ='order_frequency', palette = 'Set2')\n",
        "plt.show()"
      ],
      "metadata": {
        "colab": {
          "base_uri": "https://localhost:8080/",
          "height": 611
        },
        "id": "922g-EYIpXZY",
        "outputId": "b8ed0bf6-6e5a-4c8d-e64e-ea6229cc7d70"
      },
      "execution_count": 141,
      "outputs": [
        {
          "output_type": "display_data",
          "data": {
            "text/plain": [
              "<Figure size 1200x800 with 1 Axes>"
            ],
            "image/png": "[encoded data removed]"
          },
          "metadata": {}
        }
      ]
    },
    {
      "cell_type": "code",
      "source": [
        "## 2번 이상 구매한 고객은 어떤 카테고리를 구매한 걸까? 그 구매 카테고리 간 공통점이 있을까?\n",
        "\n",
        "# 가설: 2번 이상 구매한 고객은 소모품을 구매했을 것이다\n",
        "\n",
        "customer_repurchase_ids = df_customers_repurchase.customer_unique_id.tolist()\n",
        "\n",
        "# df_ord_customer_it, df_prod 와 join 필요"
      ],
      "metadata": {
        "id": "1OT92geepXbk"
      },
      "execution_count": 163,
      "outputs": []
    },
    {
      "cell_type": "markdown",
      "source": [],
      "metadata": {
        "id": "7ebYGAVApWnz"
      }
    },
    {
      "cell_type": "code",
      "source": [],
      "metadata": {
        "id": "aeGAb6bwpWt_"
      },
      "execution_count": null,
      "outputs": []
    },
    {
      "cell_type": "code",
      "source": [],
      "metadata": {
        "id": "dSflgorspWxF"
      },
      "execution_count": null,
      "outputs": []
    },
    {
      "cell_type": "markdown",
      "source": [
        "## 2.4. 세그멘테이션"
      ],
      "metadata": {
        "id": "yPMk5Zmkllr1"
      }
    },
    {
      "cell_type": "code",
      "source": [],
      "metadata": {
        "id": "lBrdXrNqllzS"
      },
      "execution_count": null,
      "outputs": []
    },
    {
      "cell_type": "code",
      "source": [],
      "metadata": {
        "id": "YfZs-1rwll4R"
      },
      "execution_count": null,
      "outputs": []
    },
    {
      "cell_type": "markdown",
      "source": [
        "# _3. 결론"
      ],
      "metadata": {
        "id": "l25Bu00NaYdu"
      }
    },
    {
      "cell_type": "code",
      "source": [],
      "metadata": {
        "id": "4Vh-CToDaZIq"
      },
      "execution_count": 101,
      "outputs": []
    },
    {
      "cell_type": "code",
      "source": [],
      "metadata": {
        "id": "x8ZOw9uraZKw"
      },
      "execution_count": 101,
      "outputs": []
    }
  ]
}